{
  "nbformat": 4,
  "nbformat_minor": 0,
  "metadata": {
    "colab": {
      "name": "StackOverflow_Post.ipynb",
      "provenance": [],
      "collapsed_sections": [],
      "include_colab_link": true
    },
    "kernelspec": {
      "display_name": "Python 3",
      "language": "python",
      "name": "python3"
    },
    "language_info": {
      "codemirror_mode": {
        "name": "ipython",
        "version": 3
      },
      "file_extension": ".py",
      "mimetype": "text/x-python",
      "name": "python",
      "nbconvert_exporter": "python",
      "pygments_lexer": "ipython3",
      "version": "3.7.6"
    }
  },
  "cells": [
    {
      "cell_type": "markdown",
      "metadata": {
        "id": "view-in-github",
        "colab_type": "text"
      },
      "source": [
        "<a href=\"https://colab.research.google.com/github/tanmayg/LS/blob/master/StackOverflow_Post.ipynb\" target=\"_parent\"><img src=\"https://colab.research.google.com/assets/colab-badge.svg\" alt=\"Open In Colab\"/></a>"
      ]
    },
    {
      "cell_type": "code",
      "metadata": {
        "colab_type": "code",
        "id": "gG7AxVTP9qLR",
        "colab": {}
      },
      "source": [
        "from __future__ import absolute_import, division, print_function, unicode_literals\n",
        "try:\n",
        "  # %tensorflow_version only exists in Colab.\n",
        "  %tensorflow_version 2.x\n",
        "except Exception:\n",
        "  pass\n",
        "import tensorflow as tf\n",
        "\n",
        "import matplotlib as mpl\n",
        "import matplotlib.pyplot as plt\n",
        "import numpy as np\n",
        "import os\n",
        "import pandas as pd\n",
        "\n",
        "mpl.rcParams['figure.figsize'] = (8, 6)\n",
        "mpl.rcParams['axes.grid'] = False"
      ],
      "execution_count": 0,
      "outputs": []
    },
    {
      "cell_type": "code",
      "metadata": {
        "colab_type": "code",
        "id": "muDPxZ6Kb1sz",
        "outputId": "dde3d84e-7f34-496c-c49a-3d1ab8c32c00",
        "colab": {
          "base_uri": "https://localhost:8080/",
          "height": 34
        }
      },
      "source": [
        "tf.__version__"
      ],
      "execution_count": 0,
      "outputs": [
        {
          "output_type": "execute_result",
          "data": {
            "text/plain": [
              "'1.15.2'"
            ]
          },
          "metadata": {
            "tags": []
          },
          "execution_count": 5
        }
      ]
    },
    {
      "cell_type": "code",
      "metadata": {
        "id": "8Mt9TRI5ErH6",
        "colab_type": "code",
        "colab": {}
      },
      "source": [
        "import tensorflow as tf"
      ],
      "execution_count": 0,
      "outputs": []
    },
    {
      "cell_type": "code",
      "metadata": {
        "colab_type": "code",
        "id": "JiTubRQbIcDd",
        "colab": {}
      },
      "source": [
        "PROJECT_ID = \"<YOUR PROJECT ID>\""
      ],
      "execution_count": 0,
      "outputs": []
    },
    {
      "cell_type": "code",
      "metadata": {
        "colab_type": "code",
        "id": "SOZkerb--G9L",
        "colab": {}
      },
      "source": [
        "import sys, os\n",
        "import warnings\n",
        "warnings.filterwarnings('ignore')\n",
        "os.environ['TF_CPP_MIN_LOG_LEVEL'] = '3' \n",
        "# If you are running this notebook in Colab, follow the\n",
        "# instructions to authenticate your GCP account. This provides access to your\n",
        "# Cloud Storage bucket and lets you submit training jobs and prediction\n",
        "# requests.\n",
        "\n",
        "if 'google.colab' in sys.modules:\n",
        "  from google.colab import auth as google_auth\n",
        "  google_auth.authenticate_user()\n",
        "  !pip install witwidget --quiet\n",
        "  !gcloud config set project $PROJECT_ID\n",
        "\n",
        "elif \"DL_PATH\" in os.environ:\n",
        "  !sudo pip install tabulate --quiet"
      ],
      "execution_count": 0,
      "outputs": []
    },
    {
      "cell_type": "code",
      "metadata": {
        "colab_type": "code",
        "id": "Gfd-w8tG9vY_",
        "outputId": "805ed31b-04c4-4372-c293-ed48deb5a127",
        "colab": {
          "base_uri": "https://localhost:8080/",
          "height": 118
        }
      },
      "source": [
        "# Copy the data to your notebook instance\n",
        "!gsutil cp 'gs://lsattentionmodelbucket/data_sample.csv' ./"
      ],
      "execution_count": 0,
      "outputs": [
        {
          "output_type": "stream",
          "text": [
            "Copying gs://lsattentionmodel/HT_Pros_test_data_2020Jan29_0445_sample.csv...\n",
            "| [1 files][234.9 MiB/234.9 MiB]                                                \n",
            "Operation completed over 1 objects/234.9 MiB.                                    \n",
            "Copying gs://lsattentionmodel/HT_Pros_train_data_2020Jan29_0445_sample.csv...\n",
            "/ [1 files][782.6 MiB/782.6 MiB]                                                \n",
            "Operation completed over 1 objects/782.6 MiB.                                    \n"
          ],
          "name": "stdout"
        }
      ]
    },
    {
      "cell_type": "code",
      "metadata": {
        "colab_type": "code",
        "id": "57ACNy2--A8N",
        "colab": {}
      },
      "source": [
        "from sklearn.preprocessing import StandardScaler\n",
        "from tensorflow.keras.preprocessing import sequence\n",
        "import pandas as pd\n",
        "import numpy as np\n",
        "\n",
        "def preprocess_data(datafile, batch_size, maxlen, scaler=None):\n",
        "    \"\"\" Preprocessing data and getting a sequence of word indices \"\"\"\n",
        "    df = pd.read_csv(datafile)\n",
        "    ID = list(set(list(df.data_Id)))\n",
        "    mf = (len(ID)//batch_size)*batch_size\n",
        "    ID = ID[:mf]\n",
        "    print(\"\\Unique ID count:\", len(ID))\n",
        "    df = df.set_index(['data_Id', 'feat_1'])\n",
        "    df = df.iloc[df.index.get_level_values('patient_id').isin(ID)]\n",
        "    \n",
        "    #create the input & output sets for train data\n",
        "    data_X = df.drop(['out_y1', 'out_y2', 'out_y3'],axis=1)\n",
        "\n",
        "    #define StdScaler Scaler for input variables\n",
        "    if scaler is None:\n",
        "        scaler = StandardScaler()\n",
        "        scaler = scaler.fit(data_X[data_X.columns])\n",
        "        \n",
        "    data_X[data_X.columns] = scaler.transform(data_X[data_X.columns])\n",
        "    \n",
        "    #define output labels\n",
        "    data_Y = df[['out_y1', 'out_y2', 'out_y3']]\n",
        "    data_Y = data_Y.astype(int)  \n",
        "\n",
        "    #get the feature names\n",
        "    feature_X = np.array(data_X.columns)\n",
        "    feature_Y = np.array(data_Y.columns)\n",
        "    \n",
        "    # train data #\n",
        "    data_X = [data_X.loc[patient].values for patient in ID]\n",
        "    data_Y = [data_Y.loc[patient].values for patient in ID]\n",
        "    \n",
        "    data_X = sequence.pad_sequences(data_X, dtype='float32', maxlen=maxlen, padding='post', truncating='post')\n",
        "    data_Y = sequence.pad_sequences(data_Y, dtype='float32', maxlen=maxlen, padding='post', truncating='post')\n",
        "\n",
        "    #change any NAs to zero\n",
        "    data_X = np.nan_to_num(data_X)\n",
        "    \n",
        "    return(ID, data_X, data_Y, feature_X, feature_Y, scaler)"
      ],
      "execution_count": 0,
      "outputs": []
    },
    {
      "cell_type": "code",
      "metadata": {
        "colab_type": "code",
        "id": "xquWAAQf-yGl",
        "outputId": "ab5ed28f-bb4b-4bd3-d42c-0b0ad18e7a44",
        "colab": {
          "base_uri": "https://localhost:8080/",
          "height": 50
        }
      },
      "source": [
        "batch_size=128\n",
        "maxlen=5\n",
        "data_ID, data_X, data_Y, feature_X, feature_Y, scaler = preprocess_data('data_sample.csv', \n",
        "                                                       batch_size=batch_size, maxlen=maxlen, scaler=None)"
      ],
      "execution_count": 0,
      "outputs": [
        {
          "output_type": "stream",
          "text": [
            "\n",
            "Dataset patient count: 6144\n"
          ],
          "name": "stdout"
        }
      ]
    },
    {
      "cell_type": "code",
      "metadata": {
        "id": "uB7kzMljErIa",
        "colab_type": "code",
        "colab": {},
        "outputId": "68506058-8b74-455e-ab66-9049b2561856"
      },
      "source": [
        "data_X.shape"
      ],
      "execution_count": 0,
      "outputs": [
        {
          "output_type": "execute_result",
          "data": {
            "text/plain": [
              "(6144, 5, 1815)"
            ]
          },
          "metadata": {
            "tags": []
          },
          "execution_count": 10
        }
      ]
    },
    {
      "cell_type": "code",
      "metadata": {
        "colab_type": "code",
        "id": "1VXbYheXaQGb",
        "colab": {}
      },
      "source": [
        "data_X = np.nan_to_num(data_X)"
      ],
      "execution_count": 0,
      "outputs": []
    },
    {
      "cell_type": "code",
      "metadata": {
        "colab_type": "code",
        "id": "3fhy79cb_OiO",
        "colab": {}
      },
      "source": [
        "BUFFER_SIZE = 10000\n",
        "train_univariate = tf.data.Dataset.from_tensor_slices((data_X, data_Y))\n",
        "train_univariate = train_univariate.cache().shuffle(BUFFER_SIZE).batch(batch_size).repeat()"
      ],
      "execution_count": 0,
      "outputs": []
    },
    {
      "cell_type": "code",
      "metadata": {
        "colab_type": "code",
        "id": "9YH-P7zX_bR2",
        "colab": {},
        "outputId": "2fa21fb4-bce2-453b-9fdb-5013bfab11c6"
      },
      "source": [
        "#input_layer = tf.keras.layers.Input(batch_shape=(batch_size, maxlen, data_X.shape[-1]))\n",
        "input_layer = tf.keras.layers.Input(data_X.shape[-2:])\n",
        "x = tf.keras.layers.Bidirectional(tf.keras.layers.LSTM(32, return_sequences=True, stateful=False))(input_layer)\n",
        "x = tf.keras.layers.Bidirectional(tf.keras.layers.LSTM(32, return_sequences=True, stateful=False))(x)\n",
        "output = tf.keras.layers.TimeDistributed(tf.keras.layers.Dense(data_Y.shape[-1], activation='sigmoid'), name='output')(x)"
      ],
      "execution_count": 0,
      "outputs": [
        {
          "output_type": "stream",
          "text": [
            "WARNING:tensorflow:From /opt/conda/lib/python3.7/site-packages/tensorflow_core/python/ops/init_ops.py:97: calling GlorotUniform.__init__ (from tensorflow.python.ops.init_ops) with dtype is deprecated and will be removed in a future version.\n",
            "Instructions for updating:\n",
            "Call initializer instance with the dtype argument instead of passing it to the constructor\n",
            "WARNING:tensorflow:From /opt/conda/lib/python3.7/site-packages/tensorflow_core/python/ops/init_ops.py:97: calling Orthogonal.__init__ (from tensorflow.python.ops.init_ops) with dtype is deprecated and will be removed in a future version.\n",
            "Instructions for updating:\n",
            "Call initializer instance with the dtype argument instead of passing it to the constructor\n",
            "WARNING:tensorflow:From /opt/conda/lib/python3.7/site-packages/tensorflow_core/python/ops/init_ops.py:97: calling Zeros.__init__ (from tensorflow.python.ops.init_ops) with dtype is deprecated and will be removed in a future version.\n",
            "Instructions for updating:\n",
            "Call initializer instance with the dtype argument instead of passing it to the constructor\n",
            "WARNING:tensorflow:From /opt/conda/lib/python3.7/site-packages/tensorflow_core/python/ops/resource_variable_ops.py:1630: calling BaseResourceVariable.__init__ (from tensorflow.python.ops.resource_variable_ops) with constraint is deprecated and will be removed in a future version.\n",
            "Instructions for updating:\n",
            "If using Keras pass *_constraint arguments to layers.\n"
          ],
          "name": "stdout"
        }
      ]
    },
    {
      "cell_type": "code",
      "metadata": {
        "colab_type": "code",
        "id": "nqJV9q_SIKKt",
        "colab": {}
      },
      "source": [
        "model = tf.keras.Model(outputs=output, inputs=input_layer)"
      ],
      "execution_count": 0,
      "outputs": []
    },
    {
      "cell_type": "code",
      "metadata": {
        "colab_type": "code",
        "id": "S6A5VSDKI9VM",
        "outputId": "9a32403a-e9f2-4c95-8b6d-25edf7d004a3",
        "colab": {
          "base_uri": "https://localhost:8080/",
          "height": 286
        }
      },
      "source": [
        "optimizer = tf.keras.optimizers.SGD(lr=0.0002)\n",
        "model.compile(optimizer = optimizer, loss='binary_crossentropy', metrics=['accuracy'])\n",
        "model.summary()"
      ],
      "execution_count": 0,
      "outputs": [
        {
          "output_type": "stream",
          "text": [
            "Model: \"model\"\n",
            "_________________________________________________________________\n",
            "Layer (type)                 Output Shape              Param #   \n",
            "=================================================================\n",
            "input_1 (InputLayer)         [(None, 5, 1815)]         0         \n",
            "_________________________________________________________________\n",
            "bidirectional (Bidirectional (None, 5, 64)             473088    \n",
            "_________________________________________________________________\n",
            "bidirectional_1 (Bidirection (None, 5, 64)             24832     \n",
            "_________________________________________________________________\n",
            "output (TimeDistributed)     (None, 5, 25)             1625      \n",
            "=================================================================\n",
            "Total params: 499,545\n",
            "Trainable params: 499,545\n",
            "Non-trainable params: 0\n",
            "_________________________________________________________________\n"
          ],
          "name": "stdout"
        }
      ]
    },
    {
      "cell_type": "code",
      "metadata": {
        "colab_type": "code",
        "id": "ilQxxmkTJK3f",
        "outputId": "1db4f7d1-acd3-457d-bd23-065e0b822522",
        "colab": {
          "base_uri": "https://localhost:8080/",
          "height": 422
        }
      },
      "source": [
        "tf.keras.utils.plot_model(model, show_shapes=True, show_layer_names=True)"
      ],
      "execution_count": 0,
      "outputs": [
        {
          "output_type": "execute_result",
          "data": {
            "image/png": "[encoded data removed]",
            "text/plain": [
              "<IPython.core.display.Image object>"
            ]
          },
          "metadata": {
            "tags": []
          },
          "execution_count": 16
        }
      ]
    },
    {
      "cell_type": "code",
      "metadata": {
        "colab_type": "code",
        "id": "Aim4MjzIJW-x",
        "outputId": "7eea5056-d69d-49fa-ea49-2dc5f47a733b",
        "colab": {
          "base_uri": "https://localhost:8080/",
          "height": 202
        }
      },
      "source": [
        "train_size = data_X.shape[0]\n",
        "model.fit(data_X, data_Y, batch_size=batch_size, shuffle=False, epochs=5, verbose=1)"
      ],
      "execution_count": 0,
      "outputs": [
        {
          "output_type": "stream",
          "text": [
            "WARNING:tensorflow:From /opt/conda/lib/python3.7/site-packages/tensorflow_core/python/ops/math_grad.py:1424: where (from tensorflow.python.ops.array_ops) is deprecated and will be removed in a future version.\n",
            "Instructions for updating:\n",
            "Use tf.where in 2.0, which has the same broadcast rule as np.where\n",
            "Train on 6144 samples\n",
            "Epoch 1/5\n",
            "6144/6144 [==============================] - 4s 632us/sample - loss: 0.6941 - acc: 0.4996\n",
            "Epoch 2/5\n",
            "6144/6144 [==============================] - 2s 293us/sample - loss: 0.6940 - acc: 0.5011\n",
            "Epoch 3/5\n",
            "6144/6144 [==============================] - 2s 293us/sample - loss: 0.6939 - acc: 0.5025\n",
            "Epoch 4/5\n",
            "6144/6144 [==============================] - 2s 292us/sample - loss: 0.6938 - acc: 0.5040\n",
            "Epoch 5/5\n",
            "6144/6144 [==============================] - 2s 293us/sample - loss: 0.6936 - acc: 0.5055\n"
          ],
          "name": "stdout"
        },
        {
          "output_type": "execute_result",
          "data": {
            "text/plain": [
              "<tensorflow.python.keras.callbacks.History at 0x7f5b143621d0>"
            ]
          },
          "metadata": {
            "tags": []
          },
          "execution_count": 17
        }
      ]
    },
    {
      "cell_type": "code",
      "metadata": {
        "colab_type": "code",
        "id": "HPC6iflLNQ6d",
        "outputId": "930738b2-690b-4d03-eb5d-98495eefecab",
        "colab": {
          "base_uri": "https://localhost:8080/",
          "height": 188
        }
      },
      "source": [
        "## Convert our Keras model to an estimator\n",
        "keras_estimator = tf.keras.estimator.model_to_estimator(keras_model=model, model_dir='export')"
      ],
      "execution_count": 0,
      "outputs": [
        {
          "output_type": "stream",
          "text": [
            "INFO:tensorflow:Using default config.\n",
            "INFO:tensorflow:Using the Keras model provided.\n",
            "INFO:tensorflow:Using config: {'_model_dir': 'export', '_tf_random_seed': None, '_save_summary_steps': 100, '_save_checkpoints_steps': None, '_save_checkpoints_secs': 600, '_session_config': allow_soft_placement: true\n",
            "graph_options {\n",
            "  rewrite_options {\n",
            "    meta_optimizer_iterations: ONE\n",
            "  }\n",
            "}\n",
            ", '_keep_checkpoint_max': 5, '_keep_checkpoint_every_n_hours': 10000, '_log_step_count_steps': 100, '_train_distribute': None, '_device_fn': None, '_protocol': None, '_eval_distribute': None, '_experimental_distribute': None, '_experimental_max_worker_delay_secs': None, '_session_creation_timeout_secs': 7200, '_service': None, '_cluster_spec': <tensorflow.python.training.server_lib.ClusterSpec object at 0x7f5b14578390>, '_task_type': 'worker', '_task_id': 0, '_global_id_in_cluster': 0, '_master': '', '_evaluation_master': '', '_is_chief': True, '_num_ps_replicas': 0, '_num_worker_replicas': 1}\n"
          ],
          "name": "stdout"
        }
      ]
    },
    {
      "cell_type": "code",
      "metadata": {
        "colab_type": "code",
        "id": "ZTq3YCWYNZ0o",
        "colab": {}
      },
      "source": [
        "# We need this serving input function to export our model in the next cell\n",
        "serving_fn = tf.estimator.export.build_raw_serving_input_receiver_fn(\n",
        "    {'input_1': model.input}\n",
        ")"
      ],
      "execution_count": 0,
      "outputs": []
    },
    {
      "cell_type": "code",
      "metadata": {
        "colab_type": "code",
        "id": "aOOS-QD9Nj01",
        "colab": {}
      },
      "source": [
        "BUCKET_NAME = \"<YOUR BUCKET NAME>\"\n",
        "REGION = \"us-central1\""
      ],
      "execution_count": 0,
      "outputs": []
    },
    {
      "cell_type": "code",
      "metadata": {
        "colab_type": "code",
        "id": "RyquqWLxNZ3i",
        "outputId": "c0b0aac8-6f50-44ed-b1a2-2892f48bf0f6",
        "colab": {
          "base_uri": "https://localhost:8080/",
          "height": 218
        }
      },
      "source": [
        "export_path = keras_estimator.export_saved_model(\n",
        "  'gs://' + BUCKET_NAME + '/explanations',\n",
        "  serving_input_receiver_fn=serving_fn\n",
        ").decode('utf-8')\n",
        "print(export_path)"
      ],
      "execution_count": 0,
      "outputs": [
        {
          "output_type": "stream",
          "text": [
            "INFO:tensorflow:Calling model_fn.\n",
            "INFO:tensorflow:Done calling model_fn.\n",
            "WARNING:tensorflow:From /opt/conda/lib/python3.7/site-packages/tensorflow_core/python/saved_model/signature_def_utils_impl.py:201: build_tensor_info (from tensorflow.python.saved_model.utils_impl) is deprecated and will be removed in a future version.\n",
            "Instructions for updating:\n",
            "This function will only be available through the v1 compatibility library as tf.compat.v1.saved_model.utils.build_tensor_info or tf.compat.v1.saved_model.build_tensor_info.\n",
            "INFO:tensorflow:Signatures INCLUDED in export for Classify: None\n",
            "INFO:tensorflow:Signatures INCLUDED in export for Regress: None\n",
            "INFO:tensorflow:Signatures INCLUDED in export for Predict: ['serving_default']\n",
            "INFO:tensorflow:Signatures INCLUDED in export for Train: None\n",
            "INFO:tensorflow:Signatures INCLUDED in export for Eval: None\n",
            "INFO:tensorflow:Restoring parameters from export/keras/keras_model.ckpt\n",
            "INFO:tensorflow:Assets added to graph.\n",
            "INFO:tensorflow:No assets to write.\n",
            "INFO:tensorflow:SavedModel written to: gs://lsattentionmodelbucket/explanations/temp-b'1586065104'/saved_model.pb\n",
            "gs://lsattentionmodelbucket/explanations/1586065104\n"
          ],
          "name": "stdout"
        }
      ]
    },
    {
      "cell_type": "code",
      "metadata": {
        "colab_type": "code",
        "id": "7zKv2YyQNZ6X",
        "outputId": "afd339e9-4029-4d6d-b6f5-1aec9bb47cd1",
        "colab": {
          "base_uri": "https://localhost:8080/",
          "height": 269
        }
      },
      "source": [
        "!saved_model_cli show --dir $export_path --all"
      ],
      "execution_count": 0,
      "outputs": [
        {
          "output_type": "stream",
          "text": [
            "\n",
            "MetaGraphDef with tag-set: 'serve' contains the following SignatureDefs:\n",
            "\n",
            "signature_def['serving_default']:\n",
            "  The given SavedModel SignatureDef contains the following input(s):\n",
            "    inputs['input_1'] tensor_info:\n",
            "        dtype: DT_FLOAT\n",
            "        shape: (-1, 5, 1815)\n",
            "        name: input_1:0\n",
            "  The given SavedModel SignatureDef contains the following output(s):\n",
            "    outputs['output'] tensor_info:\n",
            "        dtype: DT_FLOAT\n",
            "        shape: (-1, 5, 25)\n",
            "        name: output/Reshape_1:0\n",
            "  Method name is: tensorflow/serving/predict\n"
          ],
          "name": "stdout"
        }
      ]
    },
    {
      "cell_type": "code",
      "metadata": {
        "colab_type": "code",
        "id": "63d1Ue9LOHTF",
        "colab": {}
      },
      "source": [
        "#Get the input_tensor_name & output_tensor_name from the command \"!saved_model_cli show --dir $export_path --all\" ran above.\n",
        "explanation_metadata = {\n",
        "    \"inputs\": {\n",
        "      \"data\": {\n",
        "        \"input_tensor_name\": \"input_1:0\",\n",
        "        \"input_baselines\": [np.mean(data_X, axis=0).tolist()],\n",
        "        \"encoding\": \"bag_of_features\", \n",
        "        \"index_feature_mapping\": feature_X.tolist()\n",
        "      }\n",
        "    },\n",
        "    \"outputs\": {\n",
        "      \"duration\": {\n",
        "        \"output_tensor_name\": \"output/Reshape_1:0\"\n",
        "      }\n",
        "    },\n",
        "  \"framework\": \"tensorflow\"\n",
        "  }"
      ],
      "execution_count": 0,
      "outputs": []
    },
    {
      "cell_type": "code",
      "metadata": {
        "colab_type": "code",
        "id": "tlOPwcP2OHWR",
        "colab": {}
      },
      "source": [
        "import json\n",
        "# Write the json to a local file\n",
        "with open('explanation_metadata.json', 'w') as output_file:\n",
        "  json.dump(explanation_metadata, output_file)"
      ],
      "execution_count": 0,
      "outputs": []
    },
    {
      "cell_type": "code",
      "metadata": {
        "colab_type": "code",
        "id": "jwTe1mbkOHZT",
        "outputId": "97df781e-b78d-4ff9-ed22-21af60227b09",
        "colab": {
          "base_uri": "https://localhost:8080/",
          "height": 67
        }
      },
      "source": [
        "!gsutil cp explanation_metadata.json $export_path"
      ],
      "execution_count": 0,
      "outputs": [
        {
          "output_type": "stream",
          "text": [
            "Copying file://explanation_metadata.json [Content-Type=application/json]...\n",
            "/ [1 files][221.7 KiB/221.7 KiB]                                                \n",
            "Operation completed over 1 objects/221.7 KiB.                                    \n"
          ],
          "name": "stdout"
        }
      ]
    },
    {
      "cell_type": "code",
      "metadata": {
        "colab_type": "code",
        "id": "9j6o1xRrQC2r",
        "colab": {}
      },
      "source": [
        "MODEL = 'sample_model'"
      ],
      "execution_count": 0,
      "outputs": []
    },
    {
      "cell_type": "code",
      "metadata": {
        "colab_type": "code",
        "id": "A8E_HYxqQC6G",
        "outputId": "770bfa34-8047-46f1-9cfa-2bbd80fb4dd2",
        "colab": {
          "base_uri": "https://localhost:8080/",
          "height": 34
        }
      },
      "source": [
        "# Create the model if it doesn't exist yet (you only need to run this once)\n",
        "!gcloud ai-platform models create $MODEL --enable-logging --regions=us-central1"
      ],
      "execution_count": 0,
      "outputs": [
        {
          "output_type": "stream",
          "text": [
            "Created ml engine model [projects/lucid-sonar-139519/models/diag_pred_explain_stateless_0504].\n"
          ],
          "name": "stdout"
        }
      ]
    },
    {
      "cell_type": "code",
      "metadata": {
        "colab_type": "code",
        "id": "xMaC-A_qQC9k",
        "colab": {}
      },
      "source": [
        "# Each time you create a version the name should be unique\n",
        "VERSION = 'v1'"
      ],
      "execution_count": 0,
      "outputs": []
    },
    {
      "cell_type": "code",
      "metadata": {
        "colab_type": "code",
        "id": "7e55ziMcOHb7",
        "outputId": "bdc3413b-9439-4d4e-fdf7-1b23e707d852",
        "colab": {
          "base_uri": "https://localhost:8080/",
          "height": 70
        }
      },
      "source": [
        "# Create the version with gcloud\n",
        "explain_method = 'integrated-gradients'\n",
        "!gcloud beta ai-platform versions create $VERSION \\\n",
        "--model $MODEL \\\n",
        "--origin $export_path \\\n",
        "--runtime-version 1.15 \\\n",
        "--framework TENSORFLOW \\\n",
        "--python-version 3.7 \\\n",
        "--machine-type n1-standard-4 \\\n",
        "--explanation-method $explain_method \\\n",
        "--num-integral-steps 25"
      ],
      "execution_count": 0,
      "outputs": [
        {
          "output_type": "stream",
          "text": [
            "Explanations reflect patterns in your model, but don't necessarily reveal fundamental relationships about your data population. See https://cloud.google.com/ml-engine/docs/ai-explanations/limitations for more information.\n",
            "Creating version (this might take a few minutes)......done.                    \n"
          ],
          "name": "stdout"
        }
      ]
    },
    {
      "cell_type": "code",
      "metadata": {
        "colab_type": "code",
        "id": "U1ZPHZytQPBS",
        "colab": {},
        "outputId": "7cad9af0-62fb-4d84-fcd1-af1e9b98a4df"
      },
      "source": [
        "# Make sure the model deployed correctly. State should be `READY` in the following log\n",
        "!gcloud ai-platform versions describe $VERSION --model $MODEL"
      ],
      "execution_count": 0,
      "outputs": [
        {
          "output_type": "stream",
          "text": [
            "createTime: '2020-04-05T05:44:40Z'\n",
            "deploymentUri: gs://lsattentionmodelbucket/explanations/1586065104\n",
            "etag: 0yiSej983oo=\n",
            "explanationConfig:\n",
            "  integratedGradientsAttribution:\n",
            "    numIntegralSteps: 25\n",
            "framework: TENSORFLOW\n",
            "isDefault: true\n",
            "machineType: n1-standard-4\n",
            "name: projects/lucid-sonar-139519/models/diag_pred_explain_stateless_0504/versions/v1\n",
            "pythonVersion: '3.7'\n",
            "runtimeVersion: '1.15'\n",
            "state: READY\n"
          ],
          "name": "stdout"
        }
      ]
    },
    {
      "cell_type": "code",
      "metadata": {
        "colab_type": "code",
        "id": "LIzJwKWpQPHX",
        "colab": {}
      },
      "source": [
        "# Format data for prediction to our model\n",
        "#prediction_json = {'input_1': data_X[0].tolist()}\n",
        "prediction_json = {'input_1': data_X[:5].reshape(-1,1815).tolist()}\n",
        "with open('diag-data.json', 'w') as outfile:\n",
        "  json.dump(prediction_json, outfile)"
      ],
      "execution_count": 0,
      "outputs": []
    },
    {
      "cell_type": "code",
      "metadata": {
        "id": "U_p43h1wErJ5",
        "colab_type": "code",
        "colab": {},
        "outputId": "63522992-33dd-4a01-b6d1-bf7ddba49a56"
      },
      "source": [
        "!gcloud beta ai-platform predict --model $MODEL --json-instances='diag-data.json'"
      ],
      "execution_count": 0,
      "outputs": [
        {
          "output_type": "stream",
          "text": [
            "[[[0.501253188, 0.525146127, 0.518246174, 0.460763305, 0.504807234, 0.50382477, 0.505772412, 0.527180433, 0.444453567, 0.545086086, 0.462574959, 0.518344581, 0.524852037, 0.445754021, 0.467864871, 0.496275, 0.483143657, 0.52788806, 0.477311105, 0.51522857, 0.510919034, 0.482102424, 0.485438317, 0.504220724, 0.475599438], [0.495552301, 0.533200681, 0.498352617, 0.452886, 0.490913153, 0.505682, 0.501424074, 0.529344559, 0.451079637, 0.547452152, 0.450416028, 0.517447829, 0.5161677, 0.44987, 0.478985578, 0.49946475, 0.474166751, 0.532283962, 0.46969831, 0.519046485, 0.525581241, 0.471141726, 0.48349458, 0.51811856, 0.442289472], [0.497886032, 0.546987, 0.492031366, 0.45569551, 0.473153412, 0.506001174, 0.502837777, 0.540862322, 0.451522112, 0.546514928, 0.452738345, 0.520970345, 0.497458398, 0.47274977, 0.489477038, 0.505790889, 0.473407924, 0.528989553, 0.451223105, 0.526681, 0.542797, 0.473299, 0.486874223, 0.52624315, 0.417016804], [0.501761317, 0.554423273, 0.496538043, 0.462046385, 0.459661752, 0.50225544, 0.504733562, 0.548638284, 0.446377039, 0.539403677, 0.454617649, 0.525815725, 0.486165762, 0.492479265, 0.505642474, 0.506760597, 0.471422, 0.520112336, 0.437322646, 0.530452371, 0.54725939, 0.465596229, 0.491727203, 0.523440659, 0.400338084], [0.508605421, 0.572082698, 0.510148108, 0.475586742, 0.456641734, 0.480856329, 0.484018087, 0.534420669, 0.435915351, 0.539864659, 0.460114509, 0.549959302, 0.464167029, 0.503496289, 0.50567615, 0.501774, 0.485158086, 0.518676281, 0.416648805, 0.534534633, 0.53388375, 0.463801831, 0.495963186, 0.526896775, 0.399885952]], [[0.496341258, 0.588264287, 0.531523943, 0.478006452, 0.450024307, 0.46984002, 0.494859248, 0.548980772, 0.459892511, 0.560374, 0.448611766, 0.571209311, 0.485234976, 0.479658782, 0.531778336, 0.487133503, 0.470232368, 0.496649921, 0.420969844, 0.51319021, 0.525737822, 0.4684183, 0.464805812, 0.536890864, 0.394043922], [0.486001, 0.603161, 0.543331, 0.4819718, 0.443369806, 0.455422699, 0.506029844, 0.548032522, 0.473771453, 0.575980186, 0.42784, 0.583187401, 0.506607533, 0.475781918, 0.538387775, 0.485247254, 0.468734235, 0.493142545, 0.434761256, 0.506331682, 0.52714026, 0.459885836, 0.442030519, 0.542163968, 0.402972], [0.474874228, 0.611216903, 0.538569808, 0.483205438, 0.446146, 0.445108175, 0.52275759, 0.549611092, 0.493263155, 0.575624108, 0.417781174, 0.569295764, 0.516210854, 0.471676081, 0.528361797, 0.485734522, 0.471288264, 0.487793744, 0.449959844, 0.495015085, 0.528780639, 0.45702517, 0.434853911, 0.550947, 0.413364977], [0.461814135, 0.625942588, 0.540441275, 0.485282719, 0.441957146, 0.434986919, 0.53649354, 0.567796767, 0.504374325, 0.553577363, 0.421287298, 0.573047042, 0.497575641, 0.472741812, 0.507282138, 0.465482324, 0.492663711, 0.47951448, 0.468959749, 0.48491, 0.514084, 0.455171973, 0.438061655, 0.562699437, 0.425935388], [0.462200791, 0.639710665, 0.521377683, 0.487230659, 0.430884093, 0.440509915, 0.547409117, 0.573475718, 0.535329282, 0.531322956, 0.401321858, 0.555793405, 0.486390144, 0.469402164, 0.505751312, 0.454088897, 0.501682937, 0.468770623, 0.489614815, 0.493324161, 0.509783864, 0.47270751, 0.45066604, 0.561976731, 0.440684468]], [[0.466461629, 0.618328929, 0.522347569, 0.494963884, 0.433914959, 0.448873162, 0.543541849, 0.574319601, 0.544242263, 0.504498243, 0.415355891, 0.549537182, 0.453212559, 0.483151853, 0.481989443, 0.442643523, 0.516545892, 0.449156284, 0.524020731, 0.499581456, 0.48259756, 0.476070702, 0.48282516, 0.5612275, 0.437995017], [0.49930346, 0.623236477, 0.551210165, 0.483547032, 0.447958261, 0.457417041, 0.539623439, 0.562773347, 0.551306665, 0.502330661, 0.416863114, 0.549577177, 0.435517043, 0.468972772, 0.484046787, 0.446831435, 0.538897097, 0.462069124, 0.538305521, 0.506734371, 0.475559652, 0.474133313, 0.472643584, 0.56471312, 0.461071551], [0.517674804, 0.634007931, 0.556477904, 0.477247596, 0.454844594, 0.467206806, 0.538667381, 0.556398332, 0.565269768, 0.502192855, 0.430566967, 0.546358585, 0.424017042, 0.470254362, 0.482256651, 0.43660748, 0.5422616, 0.463303685, 0.554463089, 0.504054844, 0.46868524, 0.479673296, 0.478063881, 0.574379683, 0.478923529], [0.513016284, 0.640708566, 0.5534724, 0.473770976, 0.459136158, 0.458579272, 0.519458055, 0.545545638, 0.561661, 0.504429817, 0.448183537, 0.555459499, 0.424157739, 0.466142058, 0.488702148, 0.424146503, 0.548332155, 0.479652703, 0.554010391, 0.499901682, 0.468765914, 0.476670682, 0.474248827, 0.592397153, 0.499872833], [0.501968324, 0.649764121, 0.543429315, 0.463757515, 0.462165058, 0.464314669, 0.511103332, 0.548054159, 0.57157433, 0.497578233, 0.462911457, 0.540986896, 0.427739263, 0.465451032, 0.48671478, 0.421028376, 0.545478523, 0.480486393, 0.557594776, 0.500059724, 0.47983548, 0.477998942, 0.480047226, 0.60287118, 0.510571897]], [[0.490157872, 0.645221472, 0.519457459, 0.466783345, 0.455921829, 0.46826303, 0.505804181, 0.552234, 0.556814432, 0.489841521, 0.460018575, 0.5343, 0.437271386, 0.482176095, 0.494271845, 0.432387352, 0.546676278, 0.488072038, 0.550505579, 0.499675542, 0.495223343, 0.471852, 0.487238497, 0.595601439, 0.52772218], [0.477474, 0.637359083, 0.505896688, 0.468378872, 0.447363108, 0.471084595, 0.504007816, 0.559241414, 0.541537523, 0.481448203, 0.473632872, 0.521731257, 0.445946157, 0.493536144, 0.490621418, 0.437121421, 0.541213572, 0.487757742, 0.544291198, 0.495707661, 0.50197053, 0.465948671, 0.498277098, 0.591274321, 0.513521], [0.469730973, 0.627591491, 0.49368462, 0.479825944, 0.442166269, 0.472361833, 0.504038393, 0.571697831, 0.52814, 0.471096039, 0.486543208, 0.518364847, 0.446946979, 0.507315755, 0.491840094, 0.439057022, 0.544133425, 0.486843854, 0.534124315, 0.486835539, 0.495373845, 0.466635197, 0.510908604, 0.593191862, 0.503078401], [0.460550457, 0.619090557, 0.47764343, 0.491331846, 0.442620784, 0.475463539, 0.500865519, 0.57863, 0.507468343, 0.46383971, 0.4908, 0.51026535, 0.442670465, 0.523272634, 0.496968418, 0.4481484, 0.543909609, 0.494019598, 0.528387964, 0.488364637, 0.497547805, 0.453697324, 0.523605645, 0.587478101, 0.507747412], [0.45457983, 0.601213336, 0.477098763, 0.49598518, 0.44421941, 0.487266153, 0.501774728, 0.579178095, 0.503270864, 0.456764728, 0.498468846, 0.504711032, 0.450674832, 0.526802361, 0.503401041, 0.460647702, 0.54284054, 0.501130939, 0.516311347, 0.485742062, 0.493788809, 0.465880126, 0.524853528, 0.58246249, 0.506319702]], [[0.46306926, 0.588101625, 0.478590161, 0.493923068, 0.445556104, 0.495749772, 0.507698953, 0.568190873, 0.510836959, 0.465908736, 0.507234097, 0.496822923, 0.449150056, 0.52104485, 0.512939155, 0.473096818, 0.534660578, 0.495407254, 0.513075352, 0.481348813, 0.489522457, 0.4738428, 0.529012799, 0.580153704, 0.492055058], [0.462547123, 0.571108, 0.484143406, 0.504524231, 0.439140677, 0.493895382, 0.51464957, 0.568938315, 0.508740544, 0.475031883, 0.512863278, 0.492921472, 0.459816873, 0.52732718, 0.516582549, 0.482471257, 0.524226069, 0.486782283, 0.510632515, 0.480407923, 0.496676177, 0.483015656, 0.529564321, 0.56012, 0.477168113], [0.459468573, 0.56014663, 0.483232379, 0.517663419, 0.437051028, 0.494846612, 0.521761239, 0.567845464, 0.504196346, 0.486937433, 0.522208452, 0.507053494, 0.466671795, 0.524602175, 0.517670751, 0.491854429, 0.512728333, 0.486604393, 0.509402931, 0.488136828, 0.500153482, 0.489011377, 0.52556324, 0.544528604, 0.47127229], [0.457270503, 0.542828739, 0.491414636, 0.523251951, 0.438007891, 0.486902773, 0.519576609, 0.567280293, 0.494949698, 0.502172053, 0.528248906, 0.51550138, 0.480015785, 0.524544954, 0.50897032, 0.499083668, 0.50761, 0.499045461, 0.498406559, 0.493205905, 0.510671437, 0.495845228, 0.512168944, 0.532460153, 0.464259028], [0.458439201, 0.536244154, 0.492028028, 0.529649496, 0.445264578, 0.480681568, 0.513671637, 0.557278, 0.491034538, 0.506087601, 0.527623057, 0.516487062, 0.483814985, 0.523191452, 0.501308918, 0.500284612, 0.510118484, 0.503616214, 0.494025648, 0.495901436, 0.51864934, 0.49608013, 0.507726789, 0.524242759, 0.47296536]]]\n"
          ],
          "name": "stdout"
        }
      ]
    },
    {
      "cell_type": "code",
      "metadata": {
        "id": "sA1GIy7qErJ7",
        "colab_type": "code",
        "colab": {}
      },
      "source": [
        "#!cat diag-data.json"
      ],
      "execution_count": 0,
      "outputs": []
    },
    {
      "cell_type": "code",
      "metadata": {
        "id": "KZvP7hQVErJ9",
        "colab_type": "code",
        "colab": {},
        "outputId": "67a6f7c1-9598-4a98-d030-6371ea3a34b9"
      },
      "source": [
        "np.array(prediction_json[\"input_1\"]).shape"
      ],
      "execution_count": 0,
      "outputs": [
        {
          "output_type": "execute_result",
          "data": {
            "text/plain": [
              "(1, 5, 1815)"
            ]
          },
          "metadata": {
            "tags": []
          },
          "execution_count": 79
        }
      ]
    },
    {
      "cell_type": "code",
      "metadata": {
        "id": "vTv3mYj7ErKA",
        "colab_type": "code",
        "colab": {},
        "outputId": "f7ebf0bd-71ec-4cd3-b88c-9244fd3dec10"
      },
      "source": [
        "data_X[0].shape"
      ],
      "execution_count": 0,
      "outputs": [
        {
          "output_type": "execute_result",
          "data": {
            "text/plain": [
              "(5, 1815)"
            ]
          },
          "metadata": {
            "tags": []
          },
          "execution_count": 66
        }
      ]
    },
    {
      "cell_type": "code",
      "metadata": {
        "id": "CCORxM8xErKC",
        "colab_type": "code",
        "colab": {},
        "outputId": "bc261849-4275-447f-92c4-ca0cf18729c8"
      },
      "source": [
        "!gcloud beta ai-platform explain --model $MODEL --json-instances='diag-data.json'"
      ],
      "execution_count": 0,
      "outputs": [
        {
          "output_type": "stream",
          "text": [
            "{\n",
            "  \"error\": \"Explainability failed with exception: <_InactiveRpcError of RPC that terminated with:\\n\\tstatus = StatusCode.INVALID_ARGUMENT\\n\\tdetails = \\\"transpose expects a vector of size 4. But input(1) is a vector of size 3\\n\\t [[{{node bidirectional/forward_lstm_1/transpose}}]]\\\"\\n\\tdebug_error_string = \\\"{\\\"created\\\":\\\"@1586068796.692241013\\\",\\\"description\\\":\\\"Error received from peer ipv4:10.7.252.78:8500\\\",\\\"file\\\":\\\"src/core/lib/surface/call.cc\\\",\\\"file_line\\\":1056,\\\"grpc_message\\\":\\\"transpose expects a vector of size 4. But input(1) is a vector of size 3\\\\n\\\\t [[{{node bidirectional/forward_lstm_1/transpose}}]]\\\",\\\"grpc_status\\\":3}\\\"\\n>\"\n",
            "}\n"
          ],
          "name": "stdout"
        }
      ]
    },
    {
      "cell_type": "code",
      "metadata": {
        "id": "Tab4KZtYErKF",
        "colab_type": "code",
        "colab": {},
        "outputId": "d952d431-d17e-4b5d-bbf3-c5da3e58c6ae"
      },
      "source": [
        "!gcloud beta logging read --project=${PROJECT_ID}"
      ],
      "execution_count": 0,
      "outputs": [
        {
          "output_type": "stream",
          "text": [
            "\u001b[1;31mERROR:\u001b[0m (gcloud) The project property must be set to a valid project ID, not the project name [-sonar-139519]\n",
            "To set your project, run:\n",
            "\n",
            "  $ gcloud config set project PROJECT_ID\n",
            "\n",
            "or to unset it, run:\n",
            "\n",
            "  $ gcloud config unset project\n"
          ],
          "name": "stdout"
        }
      ]
    },
    {
      "cell_type": "code",
      "metadata": {
        "id": "DpFqjASyErKH",
        "colab_type": "code",
        "colab": {}
      },
      "source": [
        "resp_obj = !gcloud beta ai-platform explain --model $MODEL --version $VERSION --json-instances='diag-data.txt'\n",
        "response = json.loads(resp_obj.s)"
      ],
      "execution_count": 0,
      "outputs": []
    },
    {
      "cell_type": "code",
      "metadata": {
        "id": "DqvQndJwErKK",
        "colab_type": "code",
        "colab": {},
        "outputId": "41efffa5-1035-44e8-bf9c-f4fbdfddff36"
      },
      "source": [
        "response"
      ],
      "execution_count": 0,
      "outputs": [
        {
          "output_type": "execute_result",
          "data": {
            "text/plain": [
              "{'error': 'Explainability failed with exception: <_InactiveRpcError of RPC that terminated with:\\n\\tstatus = StatusCode.INVALID_ARGUMENT\\n\\tdetails = \"Shapes of all inputs must match: values[0].shape = [26] != values[1].shape = [1,52]\\n\\t [[{{node stack}}]]\"\\n\\tdebug_error_string = \"{\"created\":\"@1585837147.415813970\",\"description\":\"Error received from peer ipv4:10.59.242.41:8500\",\"file\":\"src/core/lib/surface/call.cc\",\"file_line\":1056,\"grpc_message\":\"Shapes of all inputs must match: values[0].shape = [26] != values[1].shape = [1,52]\\\\n\\\\t [[{{node stack}}]]\",\"grpc_status\":3}\"\\n>'}"
            ]
          },
          "metadata": {
            "tags": []
          },
          "execution_count": 31
        }
      ]
    },
    {
      "cell_type": "code",
      "metadata": {
        "id": "SHLzyf_BErKM",
        "colab_type": "code",
        "colab": {},
        "outputId": "64bfe3bb-1495-4a2e-a339-6462ea8759e2"
      },
      "source": [
        "model.predict(data_X[0].reshape(-1,5,1815))"
      ],
      "execution_count": 0,
      "outputs": [
        {
          "output_type": "execute_result",
          "data": {
            "text/plain": [
              "array([[[0.49514586, 0.49965215, 0.51086235, 0.49489343, 0.5011939 ,\n",
              "         0.49628434, 0.47265446, 0.4965824 , 0.48916355, 0.49863464,\n",
              "         0.50286114, 0.5022503 , 0.50514585, 0.49308196, 0.5018075 ,\n",
              "         0.49169204, 0.48702157, 0.5040773 , 0.48982868, 0.49258888,\n",
              "         0.5042325 , 0.5121556 , 0.4995156 , 0.4873643 , 0.5077967 ],\n",
              "        [0.50063723, 0.4966424 , 0.508897  , 0.4932428 , 0.49593756,\n",
              "         0.49572882, 0.4838164 , 0.49835837, 0.48922616, 0.49465516,\n",
              "         0.49862286, 0.5014685 , 0.5055968 , 0.49414843, 0.500925  ,\n",
              "         0.4969879 , 0.49074098, 0.5050089 , 0.4937841 , 0.49210012,\n",
              "         0.50305164, 0.50624526, 0.5017527 , 0.49211037, 0.50888413],\n",
              "        [0.5006773 , 0.49530196, 0.50764984, 0.49306953, 0.49487334,\n",
              "         0.49750313, 0.48865524, 0.49780306, 0.4913259 , 0.49591845,\n",
              "         0.49726087, 0.50350666, 0.50319207, 0.49495783, 0.501133  ,\n",
              "         0.49819806, 0.49212024, 0.50568664, 0.49443424, 0.4948849 ,\n",
              "         0.5030228 , 0.50546706, 0.5019524 , 0.49552593, 0.5084093 ],\n",
              "        [0.50026906, 0.4950143 , 0.5061342 , 0.49372935, 0.49476752,\n",
              "         0.4986205 , 0.49238843, 0.49740547, 0.49340862, 0.49691954,\n",
              "         0.4965686 , 0.5044444 , 0.5015843 , 0.4957368 , 0.5014249 ,\n",
              "         0.49902427, 0.4933837 , 0.50568664, 0.49501097, 0.49711898,\n",
              "         0.50267065, 0.5042983 , 0.50177634, 0.49776885, 0.506896  ],\n",
              "        [0.4997702 , 0.4953278 , 0.50448364, 0.49477595, 0.49509233,\n",
              "         0.49935547, 0.4953832 , 0.497208  , 0.4953362 , 0.4978656 ,\n",
              "         0.49631417, 0.50467354, 0.50062776, 0.49654344, 0.50181943,\n",
              "         0.4996462 , 0.49456167, 0.50517833, 0.49567783, 0.49879852,\n",
              "         0.50222635, 0.5029099 , 0.5015324 , 0.4992081 , 0.50491524]]],\n",
              "      dtype=float32)"
            ]
          },
          "metadata": {
            "tags": []
          },
          "execution_count": 68
        }
      ]
    },
    {
      "cell_type": "code",
      "metadata": {
        "id": "YIxIv6vWErKR",
        "colab_type": "code",
        "colab": {}
      },
      "source": [
        ""
      ],
      "execution_count": 0,
      "outputs": []
    },
    {
      "cell_type": "code",
      "metadata": {
        "id": "Stqfg4sfErKT",
        "colab_type": "code",
        "colab": {}
      },
      "source": [
        ""
      ],
      "execution_count": 0,
      "outputs": []
    },
    {
      "cell_type": "code",
      "metadata": {
        "id": "nSh1P5noErKV",
        "colab_type": "code",
        "colab": {}
      },
      "source": [
        ""
      ],
      "execution_count": 0,
      "outputs": []
    },
    {
      "cell_type": "code",
      "metadata": {
        "id": "zevDWSogErKa",
        "colab_type": "code",
        "colab": {}
      },
      "source": [
        ""
      ],
      "execution_count": 0,
      "outputs": []
    },
    {
      "cell_type": "code",
      "metadata": {
        "colab_type": "code",
        "id": "ConVupWYywvR",
        "colab": {}
      },
      "source": [
        "#Added for custom routine\n",
        "MODEL_NAME = 'DiagPredMultiClass'\n",
        "VERSION_NAME = 'v'+str(v_num)"
      ],
      "execution_count": 0,
      "outputs": []
    },
    {
      "cell_type": "code",
      "metadata": {
        "colab_type": "code",
        "id": "vzcXT-S1zEMu",
        "colab": {}
      },
      "source": [
        "! gcloud ai-platform models create $MODEL_NAME \\\n",
        "  --regions $REGION"
      ],
      "execution_count": 0,
      "outputs": []
    },
    {
      "cell_type": "code",
      "metadata": {
        "colab_type": "code",
        "id": "jXtSOHynzJIT",
        "colab": {}
      },
      "source": [
        "#Added for custom routine\n",
        "# --quiet automatically installs the beta component if it isn't already installed \n",
        "! gcloud --quiet beta ai-platform versions create $VERSION_NAME \\\n",
        "  --model $MODEL_NAME \\\n",
        "  --runtime-version 1.15 \\\n",
        "  --python-version 3.7 \\\n",
        "  --origin gs://$BUCKET_NAME/custom_prediction_routine_tutorial/model/ \\\n",
        "  --package-uris gs://$BUCKET_NAME/custom_prediction_routine_tutorial/my_custom_code-0.1.tar.gz \\\n",
        "  --prediction-class predictor.MyPredictor"
      ],
      "execution_count": 0,
      "outputs": []
    },
    {
      "cell_type": "code",
      "metadata": {
        "colab_type": "code",
        "id": "PW75z6uMABMK",
        "colab": {}
      },
      "source": [
        "#Added for custom routine\n",
        "pip install --upgrade google-api-python-client"
      ],
      "execution_count": 0,
      "outputs": []
    },
    {
      "cell_type": "code",
      "metadata": {
        "colab_type": "code",
        "id": "lywnG_5lDNi_",
        "colab": {}
      },
      "source": [
        "import json\n",
        "# Format data for prediction to our model\n",
        "prediction_json = {'input_1': np.nan_to_num(datats_X[100]).tolist()}\n",
        "with open('diag-data.txt', 'w') as outfile:\n",
        "  json.dump(prediction_json, outfile)"
      ],
      "execution_count": 0,
      "outputs": []
    },
    {
      "cell_type": "code",
      "metadata": {
        "colab_type": "code",
        "id": "zpDGEUHhDVr9",
        "colab": {}
      },
      "source": [
        "!gcloud beta ai-platform predict --model $MODEL_NAME --version $VERSION_NAME --json-instances='diag-data.txt'"
      ],
      "execution_count": 0,
      "outputs": []
    },
    {
      "cell_type": "code",
      "metadata": {
        "colab_type": "code",
        "id": "2aLNy2LqYh2H",
        "colab": {}
      },
      "source": [
        "datats_ID, datats_X, datats_Y, featurets_X, featurets_Y = preprocess_data_custom('HT_Pros_test_data_2020Jan29_0445_sample.csv', \n",
        "                                                       batch_size=batch_size, maxlen=maxlen, scaler=None)"
      ],
      "execution_count": 0,
      "outputs": []
    },
    {
      "cell_type": "code",
      "metadata": {
        "colab_type": "code",
        "id": "be9Wc-v2YrVD",
        "colab": {}
      },
      "source": [
        "#scale using the defined scaler\n",
        "datats_X = scaler.preprocess(datats_X)"
      ],
      "execution_count": 0,
      "outputs": []
    },
    {
      "cell_type": "code",
      "metadata": {
        "colab_type": "code",
        "id": "PGh_mTbgYyQb",
        "colab": {}
      },
      "source": [
        "#Added for custom routine\n",
        "#organize data in 3d format (patients, visits, features)\n",
        "datats_X = [datats_X.loc[patient].values for patient in datats_ID]\n",
        "datats_Y = [datats_Y.loc[patient].values for patient in datats_ID]"
      ],
      "execution_count": 0,
      "outputs": []
    },
    {
      "cell_type": "code",
      "metadata": {
        "colab_type": "code",
        "id": "e33R2gusYyWa",
        "colab": {}
      },
      "source": [
        "#pad or truncate rows as required\n",
        "datats_X = sequence.pad_sequences(datats_X, dtype='float32', maxlen=maxlen, padding='post', truncating='post')\n",
        "datats_Y = sequence.pad_sequences(datats_Y, dtype='float32', maxlen=maxlen, padding='post', truncating='post')"
      ],
      "execution_count": 0,
      "outputs": []
    },
    {
      "cell_type": "code",
      "metadata": {
        "colab_type": "code",
        "id": "8V95vBN1AfaY",
        "colab": {}
      },
      "source": [
        "import googleapiclient.discovery\n",
        "\n",
        "instances = [\n",
        "  np.nan_to_num(datats_X[100]).tolist(),\n",
        "  np.nan_to_num(datats_X[200]).tolist()\n",
        "]\n",
        "\n",
        "service = googleapiclient.discovery.build('ml', 'v1')\n",
        "name = 'projects/{}/models/{}/versions/{}'.format(PROJECT_ID, MODEL_NAME, VERSION_NAME)"
      ],
      "execution_count": 0,
      "outputs": []
    },
    {
      "cell_type": "code",
      "metadata": {
        "colab_type": "code",
        "id": "BjbG5O3oA0Kh",
        "colab": {}
      },
      "source": [
        "response = service.projects().predict(\n",
        "    name=name,\n",
        "    body={'instances': instances, 'probabilities': True}\n",
        ").execute()"
      ],
      "execution_count": 0,
      "outputs": []
    },
    {
      "cell_type": "code",
      "metadata": {
        "colab_type": "code",
        "id": "V4_o-tcqBOXL",
        "colab": {}
      },
      "source": [
        "response"
      ],
      "execution_count": 0,
      "outputs": []
    },
    {
      "cell_type": "code",
      "metadata": {
        "colab_type": "code",
        "id": "Inpov6ebBLtJ",
        "colab": {}
      },
      "source": [
        "\n",
        "if 'error' in response:\n",
        "    raise RuntimeError(response['error'])\n",
        "else:\n",
        "  print(response['predictions'])"
      ],
      "execution_count": 0,
      "outputs": []
    },
    {
      "cell_type": "code",
      "metadata": {
        "colab_type": "code",
        "id": "mebwTRvkJrgG",
        "colab": {}
      },
      "source": [
        "## Convert our Keras model to an estimator\n",
        "keras_estimator = tf.keras.estimator.model_to_estimator(keras_model=model, model_dir='export')"
      ],
      "execution_count": 0,
      "outputs": []
    },
    {
      "cell_type": "code",
      "metadata": {
        "colab_type": "code",
        "id": "21avg4_OKDXp",
        "colab": {}
      },
      "source": [
        "# We need this serving input function to export our model in the next cell\n",
        "serving_fn = tf.estimator.export.build_raw_serving_input_receiver_fn(\n",
        "    {'input_2': model.input}\n",
        ")"
      ],
      "execution_count": 0,
      "outputs": []
    },
    {
      "cell_type": "code",
      "metadata": {
        "colab_type": "code",
        "id": "7JxQ0ikMKOuZ",
        "colab": {}
      },
      "source": [
        "export_path = keras_estimator.export_saved_model(\n",
        "  'gs://' + BUCKET_NAME + '/explanations',\n",
        "  serving_input_receiver_fn=serving_fn\n",
        ").decode('utf-8')\n",
        "print(export_path)"
      ],
      "execution_count": 0,
      "outputs": []
    },
    {
      "cell_type": "code",
      "metadata": {
        "colab_type": "code",
        "id": "ydiUqzYpKWmu",
        "colab": {}
      },
      "source": [
        "!saved_model_cli show --dir $export_path --all  "
      ],
      "execution_count": 0,
      "outputs": []
    },
    {
      "cell_type": "code",
      "metadata": {
        "colab_type": "code",
        "id": "TT9hRmgzKgUG",
        "colab": {}
      },
      "source": [
        "# Print the names of our tensors\n",
        "print('Model input tensor: ', model.input.name)\n",
        "print('Model output tensor: ', model.output.name)"
      ],
      "execution_count": 0,
      "outputs": []
    },
    {
      "cell_type": "code",
      "metadata": {
        "colab_type": "code",
        "id": "rjlew7XPKlFl",
        "colab": {}
      },
      "source": [
        "random_baseline = np.random.rand(5, 20)"
      ],
      "execution_count": 0,
      "outputs": []
    },
    {
      "cell_type": "code",
      "metadata": {
        "colab_type": "code",
        "id": "moHhAtOXK2S1",
        "colab": {}
      },
      "source": [
        "import pandas as pd\n",
        "import numpy as np \n",
        "import json\n",
        "import time"
      ],
      "execution_count": 0,
      "outputs": []
    },
    {
      "cell_type": "code",
      "metadata": {
        "colab_type": "code",
        "id": "BHoootHUK4RG",
        "colab": {}
      },
      "source": [
        "explanation_metadata = {\n",
        "    \"inputs\": {\n",
        "      \"data\": {\n",
        "        \"input_tensor_name\": \"input_2:0\",\n",
        "        \"input_baselines\": [random_baseline.tolist()]\n",
        "      }\n",
        "    },\n",
        "    \"outputs\": {\n",
        "      \"probabilities\": {\n",
        "        \"output_tensor_name\": \"output_1/Identity:0\"\n",
        "      }\n",
        "    },\n",
        "  \"framework\": \"tensorflow\"\n",
        "  }"
      ],
      "execution_count": 0,
      "outputs": []
    },
    {
      "cell_type": "code",
      "metadata": {
        "colab_type": "code",
        "id": "9BJM0zZOLBQP",
        "colab": {}
      },
      "source": [
        "# Write the json to a local file\n",
        "with open('explanation_metadata.json', 'w') as output_file:\n",
        "  json.dump(explanation_metadata, output_file)"
      ],
      "execution_count": 0,
      "outputs": []
    },
    {
      "cell_type": "code",
      "metadata": {
        "colab_type": "code",
        "id": "JfMW7OnxLFt7",
        "colab": {}
      },
      "source": [
        "!gsutil cp explanation_metadata.json $export_path"
      ],
      "execution_count": 0,
      "outputs": []
    },
    {
      "cell_type": "code",
      "metadata": {
        "colab_type": "code",
        "id": "cCq-X01SLJK5",
        "colab": {}
      },
      "source": [
        "MODEL = 'diag_google_ai'"
      ],
      "execution_count": 0,
      "outputs": []
    },
    {
      "cell_type": "code",
      "metadata": {
        "colab_type": "code",
        "id": "ddAlO1wJfXoD",
        "colab": {}
      },
      "source": [
        "!echo $MODEL_NAME"
      ],
      "execution_count": 0,
      "outputs": []
    },
    {
      "cell_type": "code",
      "metadata": {
        "colab_type": "code",
        "id": "fmlRH1TqfbfD",
        "colab": {}
      },
      "source": [
        "!echo $VERSION_NAME"
      ],
      "execution_count": 0,
      "outputs": []
    },
    {
      "cell_type": "code",
      "metadata": {
        "colab_type": "code",
        "id": "aNeeFA2ILNYj",
        "colab": {}
      },
      "source": [
        "# Create the model if it doesn't exist yet (you only need to run this once)\n",
        "!gcloud ai-platform models create $MODEL_NAME --enable-logging --regions=us-central1"
      ],
      "execution_count": 0,
      "outputs": []
    },
    {
      "cell_type": "code",
      "metadata": {
        "colab_type": "code",
        "id": "coIvJH0nLOxs",
        "colab": {}
      },
      "source": [
        "# Each time you create a version the name should be unique\n",
        "VERSION_NAME = 'v12'"
      ],
      "execution_count": 0,
      "outputs": []
    },
    {
      "cell_type": "code",
      "metadata": {
        "colab_type": "code",
        "id": "CPOAx0ZmLTHr",
        "colab": {}
      },
      "source": [
        "#original\n",
        "# Create the version with gcloud\n",
        "explain_method = 'sampled-shapley'\n",
        "!gcloud beta ai-platform versions create $VERSION \\\n",
        "--model $MODEL \\\n",
        "--origin $export_path \\\n",
        "--runtime-version 1.15 \\\n",
        "--framework TENSORFLOW \\\n",
        "--python-version 3.7 \\\n",
        "--machine-type n1-standard-4 \\\n",
        "--explanation-method $explain_method \\\n",
        "--num-paths 25"
      ],
      "execution_count": 0,
      "outputs": []
    },
    {
      "cell_type": "code",
      "metadata": {
        "colab_type": "code",
        "id": "sP9-LoVqfmIa",
        "colab": {}
      },
      "source": [
        "#Added after custom predictor\n",
        "# Create the version with gcloud\n",
        "explain_method = 'integrated-gradients'\n",
        "!gcloud beta ai-platform versions create $VERSION_NAME \\\n",
        "  --model $MODEL_NAME \\\n",
        "  --origin $export_path \\\n",
        "  --runtime-version 1.15 \\\n",
        "  --python-version 3.7 \\\n",
        "  --explanation-method $explain_method \\\n",
        "  --num-paths 25 \\\n",
        "  --origin gs://$BUCKET_NAME/custom_prediction_routine_tutorial/model/ \\\n",
        "  --package-uris gs://$BUCKET_NAME/custom_prediction_routine_tutorial/my_custom_code-0.1.tar.gz \\\n",
        "  --prediction-class predictor.MyPredictor \\\n",
        "  --machine-type n1-standard-4 \\\n",
        "  --framework TENSORFLOW"
      ],
      "execution_count": 0,
      "outputs": []
    },
    {
      "cell_type": "code",
      "metadata": {
        "colab_type": "code",
        "id": "N5s2UTeHHXjC",
        "colab": {}
      },
      "source": [
        "!echo $VERSION_NAME"
      ],
      "execution_count": 0,
      "outputs": []
    },
    {
      "cell_type": "code",
      "metadata": {
        "colab_type": "code",
        "id": "F8uhbVNrLYiW",
        "colab": {}
      },
      "source": [
        "!gcloud ai-platform versions describe $VERSION --model $MODEL"
      ],
      "execution_count": 0,
      "outputs": []
    },
    {
      "cell_type": "code",
      "metadata": {
        "colab_type": "code",
        "id": "wrBkylQKOB4g",
        "colab": {}
      },
      "source": [
        "ts_in_seq[0].reshape(-1,5,20).tolist()"
      ],
      "execution_count": 0,
      "outputs": []
    },
    {
      "cell_type": "code",
      "metadata": {
        "colab_type": "code",
        "id": "8jeF5KuDfcBB",
        "colab": {}
      },
      "source": [
        "model.predict(ts_in_seq[0].reshape(-1,5,20))"
      ],
      "execution_count": 0,
      "outputs": []
    },
    {
      "cell_type": "code",
      "metadata": {
        "colab_type": "code",
        "id": "YwR9VM_DOaE9",
        "colab": {}
      },
      "source": [
        "ts_out_seq[0]"
      ],
      "execution_count": 0,
      "outputs": []
    },
    {
      "cell_type": "code",
      "metadata": {
        "colab_type": "code",
        "id": "6dz0444eraMT",
        "colab": {}
      },
      "source": [
        ""
      ],
      "execution_count": 0,
      "outputs": []
    },
    {
      "cell_type": "code",
      "metadata": {
        "colab_type": "code",
        "id": "FaSBeVapMZW5",
        "colab": {}
      },
      "source": [
        "# Format data for prediction to our model\n",
        "prediction_json = {'input_1': ts_in_seq[1].tolist()}\n",
        "with open('diag-data.txt', 'w') as outfile:\n",
        "  json.dump(prediction_json, outfile)"
      ],
      "execution_count": 0,
      "outputs": []
    },
    {
      "cell_type": "code",
      "metadata": {
        "colab_type": "code",
        "id": "8h5VFATUMzFi",
        "colab": {}
      },
      "source": [
        "resp_obj = !gcloud beta ai-platform explain --model $MODEL --version $VERSION --json-instances='diag-data.txt'\n",
        "response = json.loads(resp_obj.s)"
      ],
      "execution_count": 0,
      "outputs": []
    },
    {
      "cell_type": "code",
      "metadata": {
        "colab_type": "code",
        "id": "bAwNAeqTpVmR",
        "colab": {}
      },
      "source": [
        "!gcloud beta ai-platform predict --model $MODEL --version $VERSION --json-instances='diag-data.txt'"
      ],
      "execution_count": 0,
      "outputs": []
    },
    {
      "cell_type": "code",
      "metadata": {
        "colab_type": "code",
        "id": "qLYAa5Ymwc24",
        "colab": {}
      },
      "source": [
        "!gcloud beta ai-platform explain --help"
      ],
      "execution_count": 0,
      "outputs": []
    },
    {
      "cell_type": "code",
      "metadata": {
        "colab_type": "code",
        "id": "0lxMn0y1vDzA",
        "colab": {}
      },
      "source": [
        "!gcloud beta ai-platform explain --model $MODEL --version $VERSION --json-instances='diag-data.txt' --flatten"
      ],
      "execution_count": 0,
      "outputs": []
    },
    {
      "cell_type": "code",
      "metadata": {
        "colab_type": "code",
        "id": "sGXqg01AM7ka",
        "colab": {}
      },
      "source": [
        "explanations = response['explanations'][0]['attributions_by_label'][0]"
      ],
      "execution_count": 0,
      "outputs": []
    },
    {
      "cell_type": "code",
      "metadata": {
        "colab_type": "code",
        "id": "hyUlo8iGe6bH",
        "colab": {}
      },
      "source": [
        "explanations"
      ],
      "execution_count": 0,
      "outputs": []
    },
    {
      "cell_type": "code",
      "metadata": {
        "colab_type": "code",
        "id": "m24UlZLfNLFg",
        "colab": {}
      },
      "source": [
        "round(explanations['example_score'], 2)"
      ],
      "execution_count": 0,
      "outputs": []
    },
    {
      "cell_type": "code",
      "metadata": {
        "colab_type": "code",
        "id": "MnbCYhUDOxwb",
        "colab": {}
      },
      "source": [
        "# Prepare 10 test examples to our model for prediction\n",
        "for i in range(10):\n",
        "  with open('diag-data-10.txt', 'a') as outfile:\n",
        "    json.dump({'input_1': ts_in_seq[i].tolist()}, outfile)\n",
        "    outfile.write('\\n')"
      ],
      "execution_count": 0,
      "outputs": []
    },
    {
      "cell_type": "code",
      "metadata": {
        "colab_type": "code",
        "id": "rCNxZXjdPD4u",
        "colab": {}
      },
      "source": [
        "# Make the request with gcloud\n",
        "batch_explain = !gcloud beta ai-platform explain --model $MODEL --version $VERSION --json-instances='diag-data-10.txt'\n",
        "attributions_resp = json.loads(batch_explain.s)"
      ],
      "execution_count": 0,
      "outputs": []
    },
    {
      "cell_type": "code",
      "metadata": {
        "colab_type": "code",
        "id": "unQsMzi7PJqB",
        "colab": {}
      },
      "source": [
        "def sanity_check_explanations(example, mean_tgt_value=None, variance_tgt_value=None):\n",
        "  passed_test = 0\n",
        "  total_test = 1\n",
        "  # `attributions` is a dict where keys are the feature names\n",
        "  # and values are the feature attributions for each feature\n",
        "  attribution_vals = [x[0] for x in example['attributions_by_label'][0]['attributions'].values()]\n",
        "  baseline_score = example['attributions_by_label'][0]['baseline_score']\n",
        "  sum_with_baseline = np.sum(attribution_vals) + baseline_score\n",
        "  predicted_val = example['attributions_by_label'][0]['example_score']\n",
        "  # Sanity check 1       \n",
        "  # The prediction at the input is equal to that at the baseline.\n",
        "  #  Please use a different baseline. Some suggestions are: random input, training\n",
        "  #  set mean.\n",
        "  if abs(predicted_val - baseline_score) <= 0.05:\n",
        "    print('Warning: example score and baseline score are too close.')\n",
        "    print('You might not get attributions.')\n",
        "  else:\n",
        "    passed_test += 1\n",
        " \n",
        "  # Sanity check 2 (only for models using Integrated Gradient explanations)\n",
        "  # Ideally, the sum of the integrated gradients must be equal to the difference\n",
        "  # in the prediction probability at the input and baseline. Any discrepency in\n",
        "  # these two values is due to the errors in approximating the integral.\n",
        "  if explain_method == 'integrated-gradients':\n",
        "    total_test += 1\n",
        "    want_integral = predicted_val - baseline_score\n",
        "    got_integral = sum(attribution_vals)\n",
        "    if abs(want_integral-got_integral)/abs(want_integral) > 0.05:  \n",
        "        print('Warning: Integral approximation error exceeds 5%.') \n",
        "        print('Please try increasing the number of integrated gradient steps.')\n",
        "    else:\n",
        "        passed_test += 1\n",
        " \n",
        "  print(passed_test, ' out of ', total_test, ' sanity checks passed.')"
      ],
      "execution_count": 0,
      "outputs": []
    },
    {
      "cell_type": "code",
      "metadata": {
        "colab_type": "code",
        "id": "y_KLOV4kPOPp",
        "colab": {}
      },
      "source": [
        "for i in attributions_resp['explanations']:\n",
        "  sanity_check_explanations(i)"
      ],
      "execution_count": 0,
      "outputs": []
    },
    {
      "cell_type": "code",
      "metadata": {
        "colab_type": "code",
        "id": "0pk8KJKdPQWW",
        "colab": {}
      },
      "source": [
        "# This is the number of data points we'll send to the What-if Tool\n",
        "WHAT_IF_TOOL_SIZE = 100\n",
        "\n",
        "from witwidget.notebook.visualization import WitWidget, WitConfigBuilder\n",
        "\n",
        "def create_list(ex_dict):\n",
        "  new_list = []\n",
        "  for i in feature_names:\n",
        "    new_list.append(ex_dict[i])\n",
        "  return new_list\n",
        "\n",
        "def example_dict_to_input(example_dict):\n",
        "  return { 'input_1': create_list(example_dict) }"
      ],
      "execution_count": 0,
      "outputs": []
    },
    {
      "cell_type": "code",
      "metadata": {
        "colab_type": "code",
        "id": "jL7diLPXRgM0",
        "colab": {}
      },
      "source": [
        "from collections import OrderedDict\n",
        "wit_data = ts_in_seq.iloc[:WHAT_IF_TOOL_SIZE].copy()\n",
        "wit_data['probabilities'] = test_labels[:WHAT_IF_TOOL_SIZE]\n",
        "wit_data_dict = wit_data.to_dict(orient='records', into=OrderedDict)"
      ],
      "execution_count": 0,
      "outputs": []
    },
    {
      "cell_type": "code",
      "metadata": {
        "colab_type": "code",
        "id": "1zjBJicgRzUg",
        "colab": {}
      },
      "source": [
        "df = pd.read_csv('HT_Pros_test_data_2020Jan29_0445_sample.csv')\n",
        "ID = list(set(list(df.patient_id)))\n",
        "mf = (len(ID)//batch_size)*batch_size\n",
        "ID = ID[:mf]\n",
        "print(\"\\nDataset patient count:\", len(ID))\n",
        "df = df.set_index(['patient_id', 'abs_time'])\n",
        "df = df.iloc[df.index.get_level_values('patient_id').isin(ID)]\n",
        "\n",
        "#create the input & output sets for train data\n",
        "X = df.drop(['hadm_id','admittime','dischtime','charttime_hr','Hypertension_y','CHF_y','AtrialFib_y','Diabetes_y','RespFail_y','CKDL1_y','CKDL2_y','CKDL3_y','CKDL4_y','CKDL5_y','CKDL6_y','Angina_y','Ischemic_y','StableAngina_y','VentTachy_y','Tobacco_y','CardiacArr_y','Stroke_y','BrainCncr_y', 'CervclCncr_y', 'OvarnCncr_y', 'LungCncr_y', 'BreastCncr_y', 'Alzheimer_y', 'Depression_y','clm_pymt_amt_y','cum_clm_pymt_amt_y'],axis=1)\n",
        "#drop rolling mean columns\n",
        "X = X[X.columns.drop(list(X.filter(regex='_amt_rm_')))]\n",
        "#drop rolling std columns\n",
        "X = X[X.columns.drop(list(X.filter(regex='_amt_rs_')))]\n",
        "#define StdScaler Scaler for input variables\n",
        "if scaler is None:\n",
        "    scaler = StandardScaler()\n",
        "    scaler = scaler.fit(X[X.columns])\n",
        "X[X.columns] = scaler.transform(X[X.columns])\n",
        "#define output labels\n",
        "#Y1 = df[['Hypertension_y','CHF_y','AtrialFib_y','Diabetes_y','RespFail_y','CKDL1_y','CKDL2_y','CKDL3_y','CKDL4_y','CKDL5_y','CKDL6_y','Angina_y','Ischemic_y','StableAngina_y','VentTachy_y','Tobacco_y','CardiacArr_y','Stroke_y','BrainCncr_y', 'CervclCncr_y', 'OvarnCncr_y', 'LungCncr_y', 'BreastCncr_y', 'Alzheimer_y', 'Depression_y']]\n",
        "Y1 = df[['Hypertension_y','CHF_y','AtrialFib_y','Diabetes_y','RespFail_y']]\n",
        "Y1 = Y1.astype(int)\n",
        "\n",
        "X = X.iloc[:,:20]"
      ],
      "execution_count": 0,
      "outputs": []
    },
    {
      "cell_type": "code",
      "metadata": {
        "colab_type": "code",
        "id": "nCV_pqMSUgJ3",
        "colab": {}
      },
      "source": [
        "Y1.head(5)"
      ],
      "execution_count": 0,
      "outputs": []
    },
    {
      "cell_type": "code",
      "metadata": {
        "colab_type": "code",
        "id": "NcB8NISsUpbv",
        "colab": {}
      },
      "source": [
        "from collections import OrderedDict\n",
        "wit_data = X.iloc[:WHAT_IF_TOOL_SIZE].copy()\n",
        "wit_data['probabilities'] = Y1.iloc[:WHAT_IF_TOOL_SIZE, 0].copy()\n",
        "wit_data_dict = wit_data.to_dict(orient='records', into=OrderedDict)"
      ],
      "execution_count": 0,
      "outputs": []
    },
    {
      "cell_type": "code",
      "metadata": {
        "colab_type": "code",
        "id": "gA0QiHRiU15m",
        "colab": {}
      },
      "source": [
        "wit_data_dict"
      ],
      "execution_count": 0,
      "outputs": []
    },
    {
      "cell_type": "code",
      "metadata": {
        "colab_type": "code",
        "id": "O3QACFHBWSMI",
        "colab": {}
      },
      "source": [
        "feature_names = X.columns.tolist()\n",
        "attributions = explanations['attributions']['data']\n",
        "rows = []\n",
        "for i,val in enumerate(feature_names):\n",
        "  rows.append([val, X.iloc[1].tolist()[i], attributions[i]])\n",
        "print(tabulate(rows,headers=['Feature name', 'Feature value', 'Attribution value']))"
      ],
      "execution_count": 0,
      "outputs": []
    },
    {
      "cell_type": "code",
      "metadata": {
        "colab_type": "code",
        "id": "ahkqmK5YgXZ0",
        "colab": {}
      },
      "source": [
        "feature_names"
      ],
      "execution_count": 0,
      "outputs": []
    },
    {
      "cell_type": "code",
      "metadata": {
        "colab_type": "code",
        "id": "WnGc9MFqVQYp",
        "colab": {}
      },
      "source": [
        "config_builder = WitConfigBuilder(\n",
        "    wit_data_dict\n",
        "  ).set_ai_platform_model(\n",
        "      PROJECT_ID,\n",
        "      MODEL,\n",
        "      VERSION,\n",
        "      adjust_example=example_dict_to_input\n",
        "  ).set_target_feature('probabilities').set_model_type('classification')\n",
        "WitWidget(config_builder)"
      ],
      "execution_count": 0,
      "outputs": []
    },
    {
      "cell_type": "code",
      "metadata": {
        "colab_type": "code",
        "id": "jiaA6nSmVuHe",
        "colab": {}
      },
      "source": [
        ""
      ],
      "execution_count": 0,
      "outputs": []
    }
  ]
}