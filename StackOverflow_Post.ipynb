{
  "nbformat": 4,
  "nbformat_minor": 0,
  "metadata": {
    "colab": {
      "name": "StackOverflow_Post.ipynb",
      "provenance": [],
      "collapsed_sections": [],
      "include_colab_link": true
    },
    "kernelspec": {
      "display_name": "Python 3",
      "language": "python",
      "name": "python3"
    },
    "language_info": {
      "codemirror_mode": {
        "name": "ipython",
        "version": 3
      },
      "file_extension": ".py",
      "mimetype": "text/x-python",
      "name": "python",
      "nbconvert_exporter": "python",
      "pygments_lexer": "ipython3",
      "version": "3.7.6"
    }
  },
  "cells": [
    {
      "cell_type": "markdown",
      "metadata": {
        "id": "view-in-github",
        "colab_type": "text"
      },
      "source": [
        "<a href=\"https://colab.research.google.com/github/tanmayg/LS/blob/master/StackOverflow_Post.ipynb\" target=\"_parent\"><img src=\"https://colab.research.google.com/assets/colab-badge.svg\" alt=\"Open In Colab\"/></a>"
      ]
    },
    {
      "cell_type": "code",
      "metadata": {
        "colab_type": "code",
        "id": "gG7AxVTP9qLR",
        "colab": {}
      },
      "source": [
        "from __future__ import absolute_import, division, print_function, unicode_literals\n",
        "\n",
        "import tensorflow as tf\n",
        "\n",
        "import matplotlib as mpl\n",
        "import matplotlib.pyplot as plt\n",
        "import numpy as np\n",
        "import os\n",
        "import pandas as pd\n",
        "\n",
        "mpl.rcParams['figure.figsize'] = (8, 6)\n",
        "mpl.rcParams['axes.grid'] = False"
      ],
      "execution_count": 0,
      "outputs": []
    },
    {
      "cell_type": "code",
      "metadata": {
        "colab_type": "code",
        "id": "muDPxZ6Kb1sz",
        "outputId": "3d5e9906-1498-406c-b9dd-65d24461b678",
        "colab": {
          "base_uri": "https://localhost:8080/",
          "height": 34
        }
      },
      "source": [
        "tf.__version__"
      ],
      "execution_count": 2,
      "outputs": [
        {
          "output_type": "execute_result",
          "data": {
            "text/plain": [
              "'2.2.0-rc2'"
            ]
          },
          "metadata": {
            "tags": []
          },
          "execution_count": 2
        }
      ]
    },
    {
      "cell_type": "code",
      "metadata": {
        "id": "8Mt9TRI5ErH6",
        "colab_type": "code",
        "colab": {}
      },
      "source": [
        "import tensorflow as tf"
      ],
      "execution_count": 0,
      "outputs": []
    },
    {
      "cell_type": "code",
      "metadata": {
        "colab_type": "code",
        "id": "JiTubRQbIcDd",
        "colab": {}
      },
      "source": [
        "PROJECT_ID = \"<YOUR PROJECT ID>\""
      ],
      "execution_count": 0,
      "outputs": []
    },
    {
      "cell_type": "code",
      "metadata": {
        "colab_type": "code",
        "id": "SOZkerb--G9L",
        "colab": {
          "base_uri": "https://localhost:8080/",
          "height": 153
        },
        "outputId": "66a65b6f-edd7-4fee-f9cb-84419aef5e0d"
      },
      "source": [
        "import sys, os\n",
        "import warnings\n",
        "warnings.filterwarnings('ignore')\n",
        "os.environ['TF_CPP_MIN_LOG_LEVEL'] = '3' \n",
        "# If you are running this notebook in Colab, follow the\n",
        "# instructions to authenticate your GCP account. This provides access to your\n",
        "# Cloud Storage bucket and lets you submit training jobs and prediction\n",
        "# requests.\n",
        "\n",
        "if 'google.colab' in sys.modules:\n",
        "  from google.colab import auth as google_auth\n",
        "  google_auth.authenticate_user()\n",
        "  !pip install witwidget --quiet\n",
        "  !gcloud config set project $PROJECT_ID\n",
        "\n",
        "elif \"DL_PATH\" in os.environ:\n",
        "  !sudo pip install tabulate --quiet"
      ],
      "execution_count": 5,
      "outputs": [
        {
          "output_type": "stream",
          "text": [
            "\u001b[K     |████████████████████████████████| 2.3MB 2.7MB/s \n",
            "\u001b[K     |████████████████████████████████| 1.1MB 22.7MB/s \n",
            "\u001b[?25hUpdated property [core/project].\n",
            "\n",
            "\n",
            "To take a quick anonymous survey, run:\n",
            "  $ gcloud survey\n",
            "\n"
          ],
          "name": "stdout"
        }
      ]
    },
    {
      "cell_type": "code",
      "metadata": {
        "colab_type": "code",
        "id": "Gfd-w8tG9vY_",
        "outputId": "993218df-bf0e-4cef-97d4-d3693bfe4989",
        "colab": {
          "base_uri": "https://localhost:8080/",
          "height": 68
        }
      },
      "source": [
        "# Copy the data to your notebook instance\n",
        "!gsutil cp 'gs://lsattentionmodelbucket/data_sample.csv' ."
      ],
      "execution_count": 13,
      "outputs": [
        {
          "output_type": "stream",
          "text": [
            "Copying gs://lsattentionmodelbucket/data_sample.csv...\n",
            "/ [1 files][554.9 KiB/554.9 KiB]                                                \n",
            "Operation completed over 1 objects/554.9 KiB.                                    \n"
          ],
          "name": "stdout"
        }
      ]
    },
    {
      "cell_type": "code",
      "metadata": {
        "colab_type": "code",
        "id": "57ACNy2--A8N",
        "colab": {}
      },
      "source": [
        "from sklearn.preprocessing import StandardScaler\n",
        "from tensorflow.keras.preprocessing import sequence\n",
        "import pandas as pd\n",
        "import numpy as np\n",
        "\n",
        "def preprocess_data(datafile, batch_size, maxlen, scaler=None):\n",
        "    \"\"\" Preprocessing data and getting a sequence of word indices \"\"\"\n",
        "    df = pd.read_csv(datafile)\n",
        "    ID = list(set(list(df.data_Id)))\n",
        "    mf = (len(ID)//batch_size)*batch_size\n",
        "    ID = ID[:mf]\n",
        "    print(\"Unique ID count:\", len(ID))\n",
        "    df = df.set_index(['data_Id', 'feat_1'])\n",
        "    df = df.iloc[df.index.get_level_values('data_Id').isin(ID)]\n",
        "    \n",
        "    #create the input & output sets for train data\n",
        "    data_X = df.drop(['out_y1', 'out_y2', 'out_y3'],axis=1)\n",
        "\n",
        "    #define StdScaler Scaler for input variables\n",
        "    if scaler is None:\n",
        "        scaler = StandardScaler()\n",
        "        scaler = scaler.fit(data_X[data_X.columns])\n",
        "        \n",
        "    data_X[data_X.columns] = scaler.transform(data_X[data_X.columns])\n",
        "    \n",
        "    #define output labels\n",
        "    data_Y = df[['out_y1', 'out_y2', 'out_y3']]\n",
        "    data_Y = data_Y.astype(int)  \n",
        "\n",
        "    #get the feature names\n",
        "    feature_X = np.array(data_X.columns)\n",
        "    feature_Y = np.array(data_Y.columns)\n",
        "    \n",
        "    # train data #\n",
        "    data_X = [data_X.loc[patient].values for patient in ID]\n",
        "    data_Y = [data_Y.loc[patient].values for patient in ID]\n",
        "    \n",
        "    data_X = sequence.pad_sequences(data_X, dtype='float32', maxlen=maxlen, padding='post', truncating='post')\n",
        "    data_Y = sequence.pad_sequences(data_Y, dtype='float32', maxlen=maxlen, padding='post', truncating='post')\n",
        "\n",
        "    #change any NAs to zero\n",
        "    data_X = np.nan_to_num(data_X)\n",
        "    \n",
        "    return(ID, data_X, data_Y, feature_X, feature_Y, scaler)"
      ],
      "execution_count": 0,
      "outputs": []
    },
    {
      "cell_type": "code",
      "metadata": {
        "colab_type": "code",
        "id": "xquWAAQf-yGl",
        "outputId": "e4160941-3a71-41b9-969e-505ceaac8d05",
        "colab": {
          "base_uri": "https://localhost:8080/",
          "height": 34
        }
      },
      "source": [
        "batch_size=128\n",
        "maxlen=5\n",
        "data_ID, data_X, data_Y, feature_X, feature_Y, scaler = preprocess_data('data_sample.csv', \n",
        "                                                       batch_size=batch_size, maxlen=maxlen, scaler=None)"
      ],
      "execution_count": 17,
      "outputs": [
        {
          "output_type": "stream",
          "text": [
            "Unique ID count: 1152\n"
          ],
          "name": "stdout"
        }
      ]
    },
    {
      "cell_type": "code",
      "metadata": {
        "id": "uB7kzMljErIa",
        "colab_type": "code",
        "outputId": "93704a90-a944-41af-c94a-2ea4e32f05bd",
        "colab": {
          "base_uri": "https://localhost:8080/",
          "height": 34
        }
      },
      "source": [
        "data_X.shape"
      ],
      "execution_count": 18,
      "outputs": [
        {
          "output_type": "execute_result",
          "data": {
            "text/plain": [
              "(1152, 5, 20)"
            ]
          },
          "metadata": {
            "tags": []
          },
          "execution_count": 18
        }
      ]
    },
    {
      "cell_type": "code",
      "metadata": {
        "colab_type": "code",
        "id": "1VXbYheXaQGb",
        "colab": {}
      },
      "source": [
        "data_X = np.nan_to_num(data_X)"
      ],
      "execution_count": 0,
      "outputs": []
    },
    {
      "cell_type": "code",
      "metadata": {
        "colab_type": "code",
        "id": "9YH-P7zX_bR2",
        "colab": {}
      },
      "source": [
        "input_layer = tf.keras.layers.Input(data_X.shape[-2:])\n",
        "x = tf.keras.layers.Bidirectional(tf.keras.layers.LSTM(32, return_sequences=True, stateful=False))(input_layer)\n",
        "x = tf.keras.layers.Bidirectional(tf.keras.layers.LSTM(32, return_sequences=True, stateful=False))(x)\n",
        "output = tf.keras.layers.TimeDistributed(tf.keras.layers.Dense(data_Y.shape[-1], activation='sigmoid'), name='output')(x)"
      ],
      "execution_count": 0,
      "outputs": []
    },
    {
      "cell_type": "code",
      "metadata": {
        "colab_type": "code",
        "id": "nqJV9q_SIKKt",
        "colab": {}
      },
      "source": [
        "model = tf.keras.Model(outputs=output, inputs=input_layer)"
      ],
      "execution_count": 0,
      "outputs": []
    },
    {
      "cell_type": "code",
      "metadata": {
        "colab_type": "code",
        "id": "S6A5VSDKI9VM",
        "outputId": "13ed1ef9-409b-41f2-ba44-5a529dd7d22d",
        "colab": {
          "base_uri": "https://localhost:8080/",
          "height": 289
        }
      },
      "source": [
        "optimizer = tf.keras.optimizers.SGD(lr=0.0002)\n",
        "model.compile(optimizer = optimizer, loss='binary_crossentropy', metrics=['accuracy'])\n",
        "model.summary()"
      ],
      "execution_count": 23,
      "outputs": [
        {
          "output_type": "stream",
          "text": [
            "Model: \"model\"\n",
            "_________________________________________________________________\n",
            "Layer (type)                 Output Shape              Param #   \n",
            "=================================================================\n",
            "input_1 (InputLayer)         [(None, 5, 20)]           0         \n",
            "_________________________________________________________________\n",
            "bidirectional (Bidirectional (None, 5, 64)             13568     \n",
            "_________________________________________________________________\n",
            "bidirectional_1 (Bidirection (None, 5, 64)             24832     \n",
            "_________________________________________________________________\n",
            "output (TimeDistributed)     (None, 5, 3)              195       \n",
            "=================================================================\n",
            "Total params: 38,595\n",
            "Trainable params: 38,595\n",
            "Non-trainable params: 0\n",
            "_________________________________________________________________\n"
          ],
          "name": "stdout"
        }
      ]
    },
    {
      "cell_type": "code",
      "metadata": {
        "colab_type": "code",
        "id": "ilQxxmkTJK3f",
        "outputId": "d6d1c5a6-ca64-4eb2-a1a9-b4534211c637",
        "colab": {
          "base_uri": "https://localhost:8080/",
          "height": 422
        }
      },
      "source": [
        "tf.keras.utils.plot_model(model, show_shapes=True, show_layer_names=True)"
      ],
      "execution_count": 24,
      "outputs": [
        {
          "output_type": "execute_result",
          "data": {
            "image/png": "[encoded data removed]",
            "text/plain": [
              "<IPython.core.display.Image object>"
            ]
          },
          "metadata": {
            "tags": []
          },
          "execution_count": 24
        }
      ]
    },
    {
      "cell_type": "code",
      "metadata": {
        "colab_type": "code",
        "id": "Aim4MjzIJW-x",
        "outputId": "501542f9-557b-443f-f981-25515d47d69c",
        "colab": {
          "base_uri": "https://localhost:8080/",
          "height": 204
        }
      },
      "source": [
        "model.fit(data_X, data_Y, batch_size=batch_size, shuffle=False, epochs=5, verbose=1)"
      ],
      "execution_count": 25,
      "outputs": [
        {
          "output_type": "stream",
          "text": [
            "Epoch 1/5\n",
            "9/9 [==============================] - 0s 11ms/step - loss: 0.6944 - accuracy: 0.2372\n",
            "Epoch 2/5\n",
            "9/9 [==============================] - 0s 10ms/step - loss: 0.6942 - accuracy: 0.2378\n",
            "Epoch 3/5\n",
            "9/9 [==============================] - 0s 10ms/step - loss: 0.6940 - accuracy: 0.2380\n",
            "Epoch 4/5\n",
            "9/9 [==============================] - 0s 9ms/step - loss: 0.6938 - accuracy: 0.2382\n",
            "Epoch 5/5\n",
            "9/9 [==============================] - 0s 10ms/step - loss: 0.6936 - accuracy: 0.2385\n"
          ],
          "name": "stdout"
        },
        {
          "output_type": "execute_result",
          "data": {
            "text/plain": [
              "<tensorflow.python.keras.callbacks.History at 0x7f2769c09358>"
            ]
          },
          "metadata": {
            "tags": []
          },
          "execution_count": 25
        }
      ]
    },
    {
      "cell_type": "code",
      "metadata": {
        "colab_type": "code",
        "id": "HPC6iflLNQ6d",
        "outputId": "39a9b56c-4b98-45f4-9782-ad959ab4e9a6",
        "colab": {
          "base_uri": "https://localhost:8080/",
          "height": 241
        }
      },
      "source": [
        "## Convert our Keras model to an estimator\n",
        "keras_estimator = tf.keras.estimator.model_to_estimator(keras_model=model, model_dir='export')"
      ],
      "execution_count": 26,
      "outputs": [
        {
          "output_type": "stream",
          "text": [
            "INFO:tensorflow:Using default config.\n",
            "INFO:tensorflow:Using the Keras model provided.\n",
            "WARNING:tensorflow:From /usr/local/lib/python3.6/dist-packages/tensorflow/python/ops/resource_variable_ops.py:1666: calling BaseResourceVariable.__init__ (from tensorflow.python.ops.resource_variable_ops) with constraint is deprecated and will be removed in a future version.\n",
            "Instructions for updating:\n",
            "If using Keras pass *_constraint arguments to layers.\n",
            "INFO:tensorflow:Using config: {'_model_dir': 'export', '_tf_random_seed': None, '_save_summary_steps': 100, '_save_checkpoints_steps': None, '_save_checkpoints_secs': 600, '_session_config': allow_soft_placement: true\n",
            "graph_options {\n",
            "  rewrite_options {\n",
            "    meta_optimizer_iterations: ONE\n",
            "  }\n",
            "}\n",
            ", '_keep_checkpoint_max': 5, '_keep_checkpoint_every_n_hours': 10000, '_log_step_count_steps': 100, '_train_distribute': None, '_device_fn': None, '_protocol': None, '_eval_distribute': None, '_experimental_distribute': None, '_experimental_max_worker_delay_secs': None, '_session_creation_timeout_secs': 7200, '_service': None, '_cluster_spec': ClusterSpec({}), '_task_type': 'worker', '_task_id': 0, '_global_id_in_cluster': 0, '_master': '', '_evaluation_master': '', '_is_chief': True, '_num_ps_replicas': 0, '_num_worker_replicas': 1}\n"
          ],
          "name": "stdout"
        }
      ]
    },
    {
      "cell_type": "code",
      "metadata": {
        "colab_type": "code",
        "id": "ZTq3YCWYNZ0o",
        "colab": {}
      },
      "source": [
        "# We need this serving input function to export our model in the next cell\n",
        "serving_fn = tf.estimator.export.build_raw_serving_input_receiver_fn(\n",
        "    {'input_1': model.input}\n",
        ")"
      ],
      "execution_count": 0,
      "outputs": []
    },
    {
      "cell_type": "code",
      "metadata": {
        "colab_type": "code",
        "id": "aOOS-QD9Nj01",
        "colab": {}
      },
      "source": [
        "BUCKET_NAME = \"<YOUR BUCKET NAME>\"\n",
        "REGION = \"us-central1\""
      ],
      "execution_count": 0,
      "outputs": []
    },
    {
      "cell_type": "code",
      "metadata": {
        "colab_type": "code",
        "id": "RyquqWLxNZ3i",
        "outputId": "1e87ad17-29b2-433b-c1ed-f9d2d2c083c5",
        "colab": {
          "base_uri": "https://localhost:8080/",
          "height": 292
        }
      },
      "source": [
        "export_path = keras_estimator.export_saved_model(\n",
        "  'gs://' + BUCKET_NAME + '/explanations',\n",
        "  serving_input_receiver_fn=serving_fn\n",
        ").decode('utf-8')\n",
        "print(export_path)"
      ],
      "execution_count": 29,
      "outputs": [
        {
          "output_type": "stream",
          "text": [
            "INFO:tensorflow:Calling model_fn.\n",
            "INFO:tensorflow:Done calling model_fn.\n",
            "WARNING:tensorflow:From /usr/local/lib/python3.6/dist-packages/tensorflow/python/saved_model/signature_def_utils_impl.py:201: build_tensor_info (from tensorflow.python.saved_model.utils_impl) is deprecated and will be removed in a future version.\n",
            "Instructions for updating:\n",
            "This function will only be available through the v1 compatibility library as tf.compat.v1.saved_model.utils.build_tensor_info or tf.compat.v1.saved_model.build_tensor_info.\n",
            "INFO:tensorflow:Signatures INCLUDED in export for Classify: None\n",
            "INFO:tensorflow:Signatures INCLUDED in export for Regress: None\n",
            "INFO:tensorflow:Signatures INCLUDED in export for Predict: ['serving_default']\n",
            "INFO:tensorflow:Signatures INCLUDED in export for Train: None\n",
            "INFO:tensorflow:Signatures INCLUDED in export for Eval: None\n",
            "INFO:tensorflow:Restoring parameters from export/keras/keras_model.ckpt\n",
            "INFO:tensorflow:Assets added to graph.\n",
            "INFO:tensorflow:No assets to write.\n",
            "INFO:tensorflow:SavedModel written to: gs://lsattentionmodelbucket/explanations/temp-1586089894/saved_model.pb\n",
            "gs://lsattentionmodelbucket/explanations/1586089894\n"
          ],
          "name": "stdout"
        }
      ]
    },
    {
      "cell_type": "code",
      "metadata": {
        "colab_type": "code",
        "id": "7zKv2YyQNZ6X",
        "outputId": "ecacd6c3-fea2-4b28-b545-749100cc83ff",
        "colab": {
          "base_uri": "https://localhost:8080/",
          "height": 272
        }
      },
      "source": [
        "!saved_model_cli show --dir $export_path --all"
      ],
      "execution_count": 30,
      "outputs": [
        {
          "output_type": "stream",
          "text": [
            "\n",
            "MetaGraphDef with tag-set: 'serve' contains the following SignatureDefs:\n",
            "\n",
            "signature_def['serving_default']:\n",
            "  The given SavedModel SignatureDef contains the following input(s):\n",
            "    inputs['input_1'] tensor_info:\n",
            "        dtype: DT_FLOAT\n",
            "        shape: (-1, 5, 20)\n",
            "        name: input_1:0\n",
            "  The given SavedModel SignatureDef contains the following output(s):\n",
            "    outputs['output'] tensor_info:\n",
            "        dtype: DT_FLOAT\n",
            "        shape: (-1, 5, 3)\n",
            "        name: output/Reshape_1:0\n",
            "  Method name is: tensorflow/serving/predict\n"
          ],
          "name": "stdout"
        }
      ]
    },
    {
      "cell_type": "code",
      "metadata": {
        "colab_type": "code",
        "id": "63d1Ue9LOHTF",
        "colab": {}
      },
      "source": [
        "#Get the input_tensor_name & output_tensor_name from the command \"!saved_model_cli show --dir $export_path --all\" ran above.\n",
        "explanation_metadata = {\n",
        "    \"inputs\": {\n",
        "      \"data\": {\n",
        "        \"input_tensor_name\": \"input_1:0\",\n",
        "        \"input_baselines\": [np.mean(data_X, axis=0).tolist()],\n",
        "        \"encoding\": \"bag_of_features\", \n",
        "        \"index_feature_mapping\": feature_X.tolist()\n",
        "      }\n",
        "    },\n",
        "    \"outputs\": {\n",
        "      \"duration\": {\n",
        "        \"output_tensor_name\": \"output/Reshape_1:0\"\n",
        "      }\n",
        "    },\n",
        "  \"framework\": \"tensorflow\"\n",
        "  }"
      ],
      "execution_count": 0,
      "outputs": []
    },
    {
      "cell_type": "code",
      "metadata": {
        "colab_type": "code",
        "id": "tlOPwcP2OHWR",
        "colab": {}
      },
      "source": [
        "import json\n",
        "# Write the json to a local file\n",
        "with open('explanation_metadata.json', 'w') as output_file:\n",
        "  json.dump(explanation_metadata, output_file)"
      ],
      "execution_count": 0,
      "outputs": []
    },
    {
      "cell_type": "code",
      "metadata": {
        "colab_type": "code",
        "id": "jwTe1mbkOHZT",
        "outputId": "721b9d95-8149-4d5a-89d4-3f7fa4baba8d",
        "colab": {
          "base_uri": "https://localhost:8080/",
          "height": 68
        }
      },
      "source": [
        "!gsutil cp explanation_metadata.json $export_path"
      ],
      "execution_count": 33,
      "outputs": [
        {
          "output_type": "stream",
          "text": [
            "Copying file://explanation_metadata.json [Content-Type=application/json]...\n",
            "/ [1 files][  2.5 KiB/  2.5 KiB]                                                \n",
            "Operation completed over 1 objects/2.5 KiB.                                      \n"
          ],
          "name": "stdout"
        }
      ]
    },
    {
      "cell_type": "code",
      "metadata": {
        "colab_type": "code",
        "id": "9j6o1xRrQC2r",
        "colab": {}
      },
      "source": [
        "MODEL = 'sample_model'"
      ],
      "execution_count": 0,
      "outputs": []
    },
    {
      "cell_type": "code",
      "metadata": {
        "colab_type": "code",
        "id": "A8E_HYxqQC6G",
        "outputId": "638dfc7a-7e5d-4e08-ef2a-61913b13f651",
        "colab": {
          "base_uri": "https://localhost:8080/",
          "height": 34
        }
      },
      "source": [
        "# Create the model if it doesn't exist yet (you only need to run this once)\n",
        "!gcloud ai-platform models create $MODEL --enable-logging --regions=us-central1"
      ],
      "execution_count": 35,
      "outputs": [
        {
          "output_type": "stream",
          "text": [
            "Created ml engine model [projects/lucid-sonar-139519/models/sample_model].\n"
          ],
          "name": "stdout"
        }
      ]
    },
    {
      "cell_type": "code",
      "metadata": {
        "colab_type": "code",
        "id": "xMaC-A_qQC9k",
        "colab": {}
      },
      "source": [
        "# Each time you create a version the name should be unique\n",
        "VERSION = 'v1'"
      ],
      "execution_count": 0,
      "outputs": []
    },
    {
      "cell_type": "code",
      "metadata": {
        "colab_type": "code",
        "id": "7e55ziMcOHb7",
        "colab": {}
      },
      "source": [
        "# Create the version with gcloud\n",
        "explain_method = 'integrated-gradients'\n",
        "!gcloud beta ai-platform versions create $VERSION \\\n",
        "--model $MODEL \\\n",
        "--origin $export_path \\\n",
        "--runtime-version 1.15 \\\n",
        "--framework TENSORFLOW \\\n",
        "--python-version 3.7 \\\n",
        "--machine-type n1-standard-4 \\\n",
        "--explanation-method $explain_method \\\n",
        "--num-integral-steps 25"
      ],
      "execution_count": 0,
      "outputs": []
    },
    {
      "cell_type": "code",
      "metadata": {
        "colab_type": "code",
        "id": "U1ZPHZytQPBS",
        "outputId": "7cad9af0-62fb-4d84-fcd1-af1e9b98a4df",
        "colab": {}
      },
      "source": [
        "# Make sure the model deployed correctly. State should be `READY` in the following log\n",
        "!gcloud ai-platform versions describe $VERSION --model $MODEL"
      ],
      "execution_count": 0,
      "outputs": [
        {
          "output_type": "stream",
          "text": [
            "createTime: '2020-04-05T05:44:40Z'\n",
            "deploymentUri: gs://lsattentionmodelbucket/explanations/1586065104\n",
            "etag: 0yiSej983oo=\n",
            "explanationConfig:\n",
            "  integratedGradientsAttribution:\n",
            "    numIntegralSteps: 25\n",
            "framework: TENSORFLOW\n",
            "isDefault: true\n",
            "machineType: n1-standard-4\n",
            "name: projects/lucid-sonar-139519/models/diag_pred_explain_stateless_0504/versions/v1\n",
            "pythonVersion: '3.7'\n",
            "runtimeVersion: '1.15'\n",
            "state: READY\n"
          ],
          "name": "stdout"
        }
      ]
    },
    {
      "cell_type": "code",
      "metadata": {
        "colab_type": "code",
        "id": "LIzJwKWpQPHX",
        "colab": {}
      },
      "source": [
        "# Format data for prediction to our model\n",
        "prediction_json = {'input_1': data_X[:5].tolist()}\n",
        "with open('diag-data.json', 'w') as outfile:\n",
        "  json.dump(prediction_json, outfile)"
      ],
      "execution_count": 0,
      "outputs": []
    },
    {
      "cell_type": "code",
      "metadata": {
        "id": "CCORxM8xErKC",
        "colab_type": "code",
        "outputId": "bc261849-4275-447f-92c4-ca0cf18729c8",
        "colab": {}
      },
      "source": [
        "!gcloud beta ai-platform explain --model $MODEL --json-instances='diag-data.json'"
      ],
      "execution_count": 0,
      "outputs": [
        {
          "output_type": "stream",
          "text": [
            "{\n",
            "  \"error\": \"Explainability failed with exception: <_InactiveRpcError of RPC that terminated with:\\n\\tstatus = StatusCode.INVALID_ARGUMENT\\n\\tdetails = \\\"transpose expects a vector of size 4. But input(1) is a vector of size 3\\n\\t [[{{node bidirectional/forward_lstm_1/transpose}}]]\\\"\\n\\tdebug_error_string = \\\"{\\\"created\\\":\\\"@1586068796.692241013\\\",\\\"description\\\":\\\"Error received from peer ipv4:10.7.252.78:8500\\\",\\\"file\\\":\\\"src/core/lib/surface/call.cc\\\",\\\"file_line\\\":1056,\\\"grpc_message\\\":\\\"transpose expects a vector of size 4. But input(1) is a vector of size 3\\\\n\\\\t [[{{node bidirectional/forward_lstm_1/transpose}}]]\\\",\\\"grpc_status\\\":3}\\\"\\n>\"\n",
            "}\n"
          ],
          "name": "stdout"
        }
      ]
    },
    {
      "cell_type": "code",
      "metadata": {
        "id": "SnA0sdLkWPth",
        "colab_type": "code",
        "colab": {}
      },
      "source": [
        "!gcloud ai-platform predict --model $MODEL --version $VERSION --json-instances='diag-data.txt'"
      ],
      "execution_count": 0,
      "outputs": []
    },
    {
      "cell_type": "code",
      "metadata": {
        "id": "DpFqjASyErKH",
        "colab_type": "code",
        "colab": {}
      },
      "source": [
        "resp_obj = !gcloud beta ai-platform explain --model $MODEL --version $VERSION --json-instances='diag-data.txt'\n",
        "response = json.loads(resp_obj.s)"
      ],
      "execution_count": 0,
      "outputs": []
    },
    {
      "cell_type": "code",
      "metadata": {
        "colab_type": "code",
        "id": "sGXqg01AM7ka",
        "colab": {}
      },
      "source": [
        "explanations = response['explanations'][0]['attributions_by_label'][0]"
      ],
      "execution_count": 0,
      "outputs": []
    },
    {
      "cell_type": "code",
      "metadata": {
        "colab_type": "code",
        "id": "MnbCYhUDOxwb",
        "colab": {}
      },
      "source": [
        "# Prepare 10 test examples to our model for prediction\n",
        "for i in range(10):\n",
        "  with open('diag-data-10.txt', 'a') as outfile:\n",
        "    json.dump({'input_1': ts_in_seq[i].tolist()}, outfile)\n",
        "    outfile.write('\\n')"
      ],
      "execution_count": 0,
      "outputs": []
    },
    {
      "cell_type": "code",
      "metadata": {
        "colab_type": "code",
        "id": "rCNxZXjdPD4u",
        "colab": {}
      },
      "source": [
        "# Make the request with gcloud\n",
        "batch_explain = !gcloud beta ai-platform explain --model $MODEL --version $VERSION --json-instances='diag-data-10.txt'\n",
        "attributions_resp = json.loads(batch_explain.s)"
      ],
      "execution_count": 0,
      "outputs": []
    },
    {
      "cell_type": "code",
      "metadata": {
        "colab_type": "code",
        "id": "0pk8KJKdPQWW",
        "colab": {}
      },
      "source": [
        "# This is the number of data points we'll send to the What-if Tool\n",
        "WHAT_IF_TOOL_SIZE = 100\n",
        "\n",
        "from witwidget.notebook.visualization import WitWidget, WitConfigBuilder\n",
        "\n",
        "def create_list(ex_dict):\n",
        "  new_list = []\n",
        "  for i in feature_names:\n",
        "    new_list.append(ex_dict[i])\n",
        "  return new_list\n",
        "\n",
        "def example_dict_to_input(example_dict):\n",
        "  return { 'input_1': create_list(example_dict) }"
      ],
      "execution_count": 0,
      "outputs": []
    }
  ]
}