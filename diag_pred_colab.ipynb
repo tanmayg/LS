{
  "nbformat": 4,
  "nbformat_minor": 0,
  "metadata": {
    "colab": {
      "name": "diag_pred_colab.ipynb",
      "provenance": [],
      "collapsed_sections": [],
      "authorship_tag": "ABX9TyOUeyKowXadv0d4EzK5aGX/",
      "include_colab_link": true
    },
    "kernelspec": {
      "name": "python3",
      "display_name": "Python 3"
    },
    "accelerator": "GPU"
  },
  "cells": [
    {
      "cell_type": "markdown",
      "metadata": {
        "id": "view-in-github",
        "colab_type": "text"
      },
      "source": [
        "<a href=\"https://colab.research.google.com/github/tanmayg/LS/blob/master/diag_pred_colab.ipynb\" target=\"_parent\"><img src=\"https://colab.research.google.com/assets/colab-badge.svg\" alt=\"Open In Colab\"/></a>"
      ]
    },
    {
      "cell_type": "code",
      "metadata": {
        "id": "H7Y5pybH8AlZ",
        "colab_type": "code",
        "colab": {}
      },
      "source": [
        "PROJECT_ID = \"lucid-sonar-139519\""
      ],
      "execution_count": 0,
      "outputs": []
    },
    {
      "cell_type": "code",
      "metadata": {
        "id": "68paDyhA8J-k",
        "colab_type": "code",
        "colab": {
          "base_uri": "https://localhost:8080/",
          "height": 34
        },
        "outputId": "e75d180a-8a77-4c3d-a5b6-6e6ed077f762"
      },
      "source": [
        "import sys, os\n",
        "import warnings\n",
        "warnings.filterwarnings('ignore')\n",
        "os.environ['TF_CPP_MIN_LOG_LEVEL'] = '3' \n",
        "# If you are running this notebook in Colab, follow the\n",
        "# instructions to authenticate your GCP account. This provides access to your\n",
        "# Cloud Storage bucket and lets you submit training jobs and prediction\n",
        "# requests.\n",
        "\n",
        "if 'google.colab' in sys.modules:\n",
        "  from google.colab import auth as google_auth\n",
        "  google_auth.authenticate_user()\n",
        "  !pip install witwidget --quiet\n",
        "  !pip install tensorflow==1.15.0 --quiet\n",
        "  !gcloud config set project $PROJECT_ID\n",
        "\n",
        "elif \"DL_PATH\" in os.environ:\n",
        "  !sudo pip install tabulate --quiet"
      ],
      "execution_count": 8,
      "outputs": [
        {
          "output_type": "stream",
          "text": [
            "Updated property [core/project].\n"
          ],
          "name": "stdout"
        }
      ]
    },
    {
      "cell_type": "code",
      "metadata": {
        "colab_type": "code",
        "id": "WJDkTybP-Uug",
        "colab": {}
      },
      "source": [
        "BUCKET_NAME = \"lsattentionmodel\"\n",
        "REGION = \"us-central1\""
      ],
      "execution_count": 0,
      "outputs": []
    },
    {
      "cell_type": "code",
      "metadata": {
        "colab_type": "code",
        "id": "MEDlLSWK15UL",
        "colab": {
          "base_uri": "https://localhost:8080/",
          "height": 34
        },
        "outputId": "52c64e87-6541-4883-f0e5-d5866185d47e"
      },
      "source": [
        "import tensorflow as tf \n",
        "import pandas as pd\n",
        "import numpy as np \n",
        "import json\n",
        "import time\n",
        "\n",
        "from sklearn.preprocessing import LabelEncoder\n",
        "from sklearn.preprocessing import MinMaxScaler\n",
        "from tabulate import tabulate\n",
        "\n",
        "# Should be 1.15.0\n",
        "print(tf.__version__)"
      ],
      "execution_count": 10,
      "outputs": [
        {
          "output_type": "stream",
          "text": [
            "1.15.0\n"
          ],
          "name": "stdout"
        }
      ]
    },
    {
      "cell_type": "code",
      "metadata": {
        "colab_type": "code",
        "id": "v7HLNsvekxvz",
        "colab": {
          "base_uri": "https://localhost:8080/",
          "height": 67
        },
        "outputId": "d3743832-0bd9-4e26-c28f-d7e27004c347"
      },
      "source": [
        "# Copy the data to your notebook instance\n",
        "!gsutil cp 'gs://lsattentionmodel/HT_Pros_test_data_2020Jan29_0445_sample.csv' ./"
      ],
      "execution_count": 11,
      "outputs": [
        {
          "output_type": "stream",
          "text": [
            "Copying gs://lsattentionmodel/HT_Pros_test_data_2020Jan29_0445_sample.csv...\n",
            "/ [1 files][234.9 MiB/234.9 MiB]                                                \n",
            "Operation completed over 1 objects/234.9 MiB.                                    \n"
          ],
          "name": "stdout"
        }
      ]
    },
    {
      "cell_type": "code",
      "metadata": {
        "colab_type": "code",
        "id": "2oUbd8lw-f7L",
        "colab": {}
      },
      "source": [
        "from sklearn.preprocessing import StandardScaler\n",
        "from keras.preprocessing import sequence\n",
        "\n",
        "def preprocess_data(datafile, batch_size, maxlen, scaler=None):\n",
        "    \"\"\" Preprocessing data and getting a sequence of word indices \"\"\"\n",
        "    df = pd.read_csv(datafile)\n",
        "    ID = list(set(list(df.patient_id)))\n",
        "    mf = (len(ID)//batch_size)*batch_size\n",
        "    ID = ID[:mf]\n",
        "    print(\"\\nDataset patient count:\", len(ID))\n",
        "    df = df.set_index(['patient_id', 'abs_time'])\n",
        "    df = df.iloc[df.index.get_level_values('patient_id').isin(ID)]\n",
        "    \n",
        "    #create the input & output sets for train data\n",
        "    X = df.drop(['hadm_id','admittime','dischtime','charttime_hr','Hypertension_y','CHF_y','AtrialFib_y','Diabetes_y','RespFail_y','CKDL1_y','CKDL2_y','CKDL3_y','CKDL4_y','CKDL5_y','CKDL6_y','Angina_y','Ischemic_y','StableAngina_y','VentTachy_y','Tobacco_y','CardiacArr_y','Stroke_y','BrainCncr_y', 'CervclCncr_y', 'OvarnCncr_y', 'LungCncr_y', 'BreastCncr_y', 'Alzheimer_y', 'Depression_y','clm_pymt_amt_y','cum_clm_pymt_amt_y'],axis=1)\n",
        "    #drop rolling mean columns\n",
        "    X = X[X.columns.drop(list(X.filter(regex='_amt_rm_')))]\n",
        "    #drop rolling std columns\n",
        "    X = X[X.columns.drop(list(X.filter(regex='_amt_rs_')))]\n",
        "    #define StdScaler Scaler for input variables\n",
        "    if scaler is None:\n",
        "        scaler = StandardScaler()\n",
        "        scaler = scaler.fit(X[X.columns])\n",
        "    X[X.columns] = scaler.transform(X[X.columns])\n",
        "    #define output labels\n",
        "    #Y1 = df[['Hypertension_y','CHF_y','AtrialFib_y','Diabetes_y','RespFail_y','CKDL1_y','CKDL2_y','CKDL3_y','CKDL4_y','CKDL5_y','CKDL6_y','Angina_y','Ischemic_y','StableAngina_y','VentTachy_y','Tobacco_y','CardiacArr_y','Stroke_y','BrainCncr_y', 'CervclCncr_y', 'OvarnCncr_y', 'LungCncr_y', 'BreastCncr_y', 'Alzheimer_y', 'Depression_y']]\n",
        "    Y1 = df[['Hypertension_y']]\n",
        "    Y1 = Y1.astype(int)\n",
        "\n",
        "    X = X.iloc[:,:20]\n",
        "    \n",
        "    # train data #\n",
        "    X = [X.loc[patient].values for patient in ID]\n",
        "    Y1 = [Y1.loc[patient].values for patient in ID]\n",
        "    \n",
        "    X = sequence.pad_sequences(X, dtype='float32', maxlen=maxlen, padding='post', truncating='post')\n",
        "    Y1 = sequence.pad_sequences(Y1, dtype='float32', maxlen=maxlen, padding='post', truncating='post')\n",
        "    \n",
        "    return(X, Y1, ID, scaler)"
      ],
      "execution_count": 0,
      "outputs": []
    },
    {
      "cell_type": "code",
      "metadata": {
        "id": "tutzlBz2GQLI",
        "colab_type": "code",
        "colab": {
          "base_uri": "https://localhost:8080/",
          "height": 50
        },
        "outputId": "c50e3b69-8177-4fb7-b5da-59d5ee091f3f"
      },
      "source": [
        "batch_size=128\n",
        "maxlen=5\n",
        "ts_in_seq, ts_out_seq, ts_ID, scaler = preprocess_data('HT_Pros_test_data_2020Jan29_0445_sample.csv', \n",
        "                                                       batch_size=batch_size, maxlen=maxlen, scaler=None)"
      ],
      "execution_count": 13,
      "outputs": [
        {
          "output_type": "stream",
          "text": [
            "\n",
            "Dataset patient count: 6144\n"
          ],
          "name": "stdout"
        }
      ]
    },
    {
      "cell_type": "code",
      "metadata": {
        "id": "r_CDBQNoGTUA",
        "colab_type": "code",
        "colab": {
          "base_uri": "https://localhost:8080/",
          "height": 34
        },
        "outputId": "9d9f2ec5-b438-4cfc-d9fb-854ae0840395"
      },
      "source": [
        "ts_in_seq.shape, ts_out_seq.shape"
      ],
      "execution_count": 14,
      "outputs": [
        {
          "output_type": "execute_result",
          "data": {
            "text/plain": [
              "((6144, 5, 20), (6144, 5, 1))"
            ]
          },
          "metadata": {
            "tags": []
          },
          "execution_count": 14
        }
      ]
    },
    {
      "cell_type": "code",
      "metadata": {
        "id": "X4CSCQ_zHUL1",
        "colab_type": "code",
        "colab": {}
      },
      "source": [
        "from tensorflow.keras.layers import Input, Bidirectional, CuDNNLSTM, TimeDistributed, Dense, LSTM\n",
        "from tensorflow.keras.models import Model"
      ],
      "execution_count": 0,
      "outputs": []
    },
    {
      "cell_type": "code",
      "metadata": {
        "id": "55nfjGeKHNz4",
        "colab_type": "code",
        "colab": {
          "base_uri": "https://localhost:8080/",
          "height": 238
        },
        "outputId": "0cc0d5f7-838a-4d27-cb11-0a34136aeb81"
      },
      "source": [
        "#input_layer = Input(batch_shape=(batch_size, maxlen, ts_in_seq.shape[-1]))\n",
        "input_layer = Input(shape=(maxlen, ts_in_seq.shape[-1]))\n",
        "x = Bidirectional(CuDNNLSTM(32, batch_size=batch_size, return_sequences=True, stateful=False))(input_layer)\n",
        "x = Bidirectional(CuDNNLSTM(32, batch_size=batch_size, return_sequences=True, stateful=False))(x)\n",
        "output1 = TimeDistributed(Dense(1, activation='sigmoid'), name='output1')(x)"
      ],
      "execution_count": 16,
      "outputs": [
        {
          "output_type": "stream",
          "text": [
            "WARNING:tensorflow:From /usr/local/lib/python3.6/dist-packages/tensorflow_core/python/ops/init_ops.py:97: calling GlorotUniform.__init__ (from tensorflow.python.ops.init_ops) with dtype is deprecated and will be removed in a future version.\n",
            "Instructions for updating:\n",
            "Call initializer instance with the dtype argument instead of passing it to the constructor\n",
            "WARNING:tensorflow:From /usr/local/lib/python3.6/dist-packages/tensorflow_core/python/ops/init_ops.py:97: calling Orthogonal.__init__ (from tensorflow.python.ops.init_ops) with dtype is deprecated and will be removed in a future version.\n",
            "Instructions for updating:\n",
            "Call initializer instance with the dtype argument instead of passing it to the constructor\n",
            "WARNING:tensorflow:From /usr/local/lib/python3.6/dist-packages/tensorflow_core/python/ops/init_ops.py:97: calling Zeros.__init__ (from tensorflow.python.ops.init_ops) with dtype is deprecated and will be removed in a future version.\n",
            "Instructions for updating:\n",
            "Call initializer instance with the dtype argument instead of passing it to the constructor\n",
            "WARNING:tensorflow:From /usr/local/lib/python3.6/dist-packages/tensorflow_core/python/ops/resource_variable_ops.py:1630: calling BaseResourceVariable.__init__ (from tensorflow.python.ops.resource_variable_ops) with constraint is deprecated and will be removed in a future version.\n",
            "Instructions for updating:\n",
            "If using Keras pass *_constraint arguments to layers.\n"
          ],
          "name": "stdout"
        }
      ]
    },
    {
      "cell_type": "code",
      "metadata": {
        "id": "K1rbnWIUHQN1",
        "colab_type": "code",
        "colab": {}
      },
      "source": [
        "model_builtin = Model(outputs=output1, inputs=input_layer, name='builtin_predict')"
      ],
      "execution_count": 0,
      "outputs": []
    },
    {
      "cell_type": "code",
      "metadata": {
        "id": "NyYiOYJOHZms",
        "colab_type": "code",
        "colab": {
          "base_uri": "https://localhost:8080/",
          "height": 286
        },
        "outputId": "81259679-fc44-4828-ecb7-91ddae0a7d06"
      },
      "source": [
        "optimizer = tf.keras.optimizers.Adam(lr=0.0002)\n",
        "model_builtin.compile(optimizer = optimizer, loss={'output1': 'binary_crossentropy'}, metrics=['accuracy', 'mse'])\n",
        "model_builtin.summary()"
      ],
      "execution_count": 18,
      "outputs": [
        {
          "output_type": "stream",
          "text": [
            "Model: \"builtin_predict\"\n",
            "_________________________________________________________________\n",
            "Layer (type)                 Output Shape              Param #   \n",
            "=================================================================\n",
            "input_1 (InputLayer)         [(None, 5, 20)]           0         \n",
            "_________________________________________________________________\n",
            "bidirectional (Bidirectional (None, 5, 64)             13824     \n",
            "_________________________________________________________________\n",
            "bidirectional_1 (Bidirection (None, 5, 64)             25088     \n",
            "_________________________________________________________________\n",
            "output1 (TimeDistributed)    (None, 5, 1)              65        \n",
            "=================================================================\n",
            "Total params: 38,977\n",
            "Trainable params: 38,977\n",
            "Non-trainable params: 0\n",
            "_________________________________________________________________\n"
          ],
          "name": "stdout"
        }
      ]
    },
    {
      "cell_type": "code",
      "metadata": {
        "id": "PW3e1rCkHb2V",
        "colab_type": "code",
        "colab": {
          "base_uri": "https://localhost:8080/",
          "height": 422
        },
        "outputId": "9e303ad1-7dc9-413b-b08a-cf91dc07a6e3"
      },
      "source": [
        "from tensorflow.keras.utils import plot_model\n",
        "plot_model(model_builtin, show_shapes=True, show_layer_names=True)"
      ],
      "execution_count": 19,
      "outputs": [
        {
          "output_type": "execute_result",
          "data": {
            "image/png": "[encoded data removed]",
            "text/plain": [
              "<IPython.core.display.Image object>"
            ]
          },
          "metadata": {
            "tags": []
          },
          "execution_count": 19
        }
      ]
    },
    {
      "cell_type": "code",
      "metadata": {
        "id": "c4BVKsszHhH3",
        "colab_type": "code",
        "colab": {
          "base_uri": "https://localhost:8080/",
          "height": 289
        },
        "outputId": "77cd99c6-bf2f-4495-a895-0f5846a04d27"
      },
      "source": [
        "model_builtin.fit(ts_in_seq, ts_out_seq, batch_size=128, shuffle=False, epochs=5, verbose=1)"
      ],
      "execution_count": 20,
      "outputs": [
        {
          "output_type": "stream",
          "text": [
            "WARNING:tensorflow:From /usr/local/lib/python3.6/dist-packages/tensorflow_core/python/ops/math_grad.py:1424: where (from tensorflow.python.ops.array_ops) is deprecated and will be removed in a future version.\n",
            "Instructions for updating:\n",
            "Use tf.where in 2.0, which has the same broadcast rule as np.where\n",
            "Train on 6144 samples\n",
            "Epoch 1/5\n",
            "6144/6144 [==============================] - 10s 2ms/sample - loss: 0.6469 - acc: 0.8043 - mean_squared_error: 0.2270\n",
            "Epoch 2/5\n",
            "6144/6144 [==============================] - 0s 60us/sample - loss: 0.5252 - acc: 0.8767 - mean_squared_error: 0.1687\n",
            "Epoch 3/5\n",
            "6144/6144 [==============================] - 0s 58us/sample - loss: 0.3989 - acc: 0.8797 - mean_squared_error: 0.1161\n",
            "Epoch 4/5\n",
            "6144/6144 [==============================] - 0s 51us/sample - loss: 0.3638 - acc: 0.8797 - mean_squared_error: 0.1050\n",
            "Epoch 5/5\n",
            "6144/6144 [==============================] - 0s 56us/sample - loss: 0.3532 - acc: 0.8797 - mean_squared_error: 0.1027\n"
          ],
          "name": "stdout"
        },
        {
          "output_type": "execute_result",
          "data": {
            "text/plain": [
              "<tensorflow.python.keras.callbacks.History at 0x7ff0574a1f60>"
            ]
          },
          "metadata": {
            "tags": []
          },
          "execution_count": 20
        }
      ]
    },
    {
      "cell_type": "code",
      "metadata": {
        "id": "mZjWab4KIElm",
        "colab_type": "code",
        "colab": {
          "base_uri": "https://localhost:8080/",
          "height": 50
        },
        "outputId": "3bbd0df3-22bd-4fa4-a925-b6f1f572090e"
      },
      "source": [
        "results = model_builtin.evaluate(ts_in_seq, ts_out_seq)\n",
        "print('[val_loss, val_acc, val_mse]', results)"
      ],
      "execution_count": 21,
      "outputs": [
        {
          "output_type": "stream",
          "text": [
            "6144/6144 [==============================] - 5s 852us/sample - loss: 0.3492 - acc: 0.8797 - mean_squared_error: 0.1019\n",
            "[val_loss, val_acc, val_mse] [0.3491825024442126, 0.87965494, 0.101889335]\n"
          ],
          "name": "stdout"
        }
      ]
    },
    {
      "cell_type": "code",
      "metadata": {
        "id": "nJL-5ONmK1JS",
        "colab_type": "code",
        "colab": {
          "base_uri": "https://localhost:8080/",
          "height": 54
        },
        "outputId": "2133c29d-00f2-400e-e5b8-4d31c0a83e23"
      },
      "source": [
        "predict = model_builtin.predict(ts_in_seq[:10])\n",
        "print(ts_out_seq[np.argmax(predict, axis=-1)].tolist())"
      ],
      "execution_count": 22,
      "outputs": [
        {
          "output_type": "stream",
          "text": [
            "[[[[0.0], [1.0], [0.0], [0.0], [0.0]], [[0.0], [1.0], [0.0], [0.0], [0.0]], [[0.0], [1.0], [0.0], [0.0], [0.0]], [[0.0], [1.0], [0.0], [0.0], [0.0]], [[0.0], [1.0], [0.0], [0.0], [0.0]]], [[[0.0], [1.0], [0.0], [0.0], [0.0]], [[0.0], [1.0], [0.0], [0.0], [0.0]], [[0.0], [1.0], [0.0], [0.0], [0.0]], [[0.0], [1.0], [0.0], [0.0], [0.0]], [[0.0], [1.0], [0.0], [0.0], [0.0]]], [[[0.0], [1.0], [0.0], [0.0], [0.0]], [[0.0], [1.0], [0.0], [0.0], [0.0]], [[0.0], [1.0], [0.0], [0.0], [0.0]], [[0.0], [1.0], [0.0], [0.0], [0.0]], [[0.0], [1.0], [0.0], [0.0], [0.0]]], [[[0.0], [1.0], [0.0], [0.0], [0.0]], [[0.0], [1.0], [0.0], [0.0], [0.0]], [[0.0], [1.0], [0.0], [0.0], [0.0]], [[0.0], [1.0], [0.0], [0.0], [0.0]], [[0.0], [1.0], [0.0], [0.0], [0.0]]], [[[0.0], [1.0], [0.0], [0.0], [0.0]], [[0.0], [1.0], [0.0], [0.0], [0.0]], [[0.0], [1.0], [0.0], [0.0], [0.0]], [[0.0], [1.0], [0.0], [0.0], [0.0]], [[0.0], [1.0], [0.0], [0.0], [0.0]]], [[[0.0], [1.0], [0.0], [0.0], [0.0]], [[0.0], [1.0], [0.0], [0.0], [0.0]], [[0.0], [1.0], [0.0], [0.0], [0.0]], [[0.0], [1.0], [0.0], [0.0], [0.0]], [[0.0], [1.0], [0.0], [0.0], [0.0]]], [[[0.0], [1.0], [0.0], [0.0], [0.0]], [[0.0], [1.0], [0.0], [0.0], [0.0]], [[0.0], [1.0], [0.0], [0.0], [0.0]], [[0.0], [1.0], [0.0], [0.0], [0.0]], [[0.0], [1.0], [0.0], [0.0], [0.0]]], [[[0.0], [1.0], [0.0], [0.0], [0.0]], [[0.0], [1.0], [0.0], [0.0], [0.0]], [[0.0], [1.0], [0.0], [0.0], [0.0]], [[0.0], [1.0], [0.0], [0.0], [0.0]], [[0.0], [1.0], [0.0], [0.0], [0.0]]], [[[0.0], [1.0], [0.0], [0.0], [0.0]], [[0.0], [1.0], [0.0], [0.0], [0.0]], [[0.0], [1.0], [0.0], [0.0], [0.0]], [[0.0], [1.0], [0.0], [0.0], [0.0]], [[0.0], [1.0], [0.0], [0.0], [0.0]]], [[[0.0], [1.0], [0.0], [0.0], [0.0]], [[0.0], [1.0], [0.0], [0.0], [0.0]], [[0.0], [1.0], [0.0], [0.0], [0.0]], [[0.0], [1.0], [0.0], [0.0], [0.0]], [[0.0], [1.0], [0.0], [0.0], [0.0]]]]\n"
          ],
          "name": "stdout"
        }
      ]
    },
    {
      "cell_type": "code",
      "metadata": {
        "id": "AWk1cUgdLXZ5",
        "colab_type": "code",
        "colab": {
          "base_uri": "https://localhost:8080/",
          "height": 1000
        },
        "outputId": "f1a9c588-6cde-446f-f817-f99672e7fe66"
      },
      "source": [
        "# Preview predictions on the first 5 examples from our test dataset\n",
        "for i, val in enumerate(predict):\n",
        "  print('Predicted: {}'.format(val))\n",
        "  print('Actual: {} \\n'.format(ts_out_seq[i]))"
      ],
      "execution_count": 23,
      "outputs": [
        {
          "output_type": "stream",
          "text": [
            "Predicted: [[0.16124845]\n",
            " [0.15815216]\n",
            " [0.1463007 ]\n",
            " [0.12898535]\n",
            " [0.10936853]]\n",
            "Actual: [[0.]\n",
            " [1.]\n",
            " [0.]\n",
            " [0.]\n",
            " [0.]] \n",
            "\n",
            "Predicted: [[0.12549388]\n",
            " [0.10951257]\n",
            " [0.09559047]\n",
            " [0.08568186]\n",
            " [0.08002463]]\n",
            "Actual: [[0.]\n",
            " [0.]\n",
            " [0.]\n",
            " [1.]\n",
            " [0.]] \n",
            "\n",
            "Predicted: [[0.12692904]\n",
            " [0.11204061]\n",
            " [0.09222278]\n",
            " [0.08515105]\n",
            " [0.07739785]]\n",
            "Actual: [[0.]\n",
            " [0.]\n",
            " [0.]\n",
            " [0.]\n",
            " [0.]] \n",
            "\n",
            "Predicted: [[0.04191905]\n",
            " [0.04488999]\n",
            " [0.04989272]\n",
            " [0.05503368]\n",
            " [0.05988008]]\n",
            "Actual: [[0.]\n",
            " [0.]\n",
            " [0.]\n",
            " [0.]\n",
            " [0.]] \n",
            "\n",
            "Predicted: [[0.08855098]\n",
            " [0.09608397]\n",
            " [0.09929374]\n",
            " [0.09713814]\n",
            " [0.0918442 ]]\n",
            "Actual: [[0.]\n",
            " [0.]\n",
            " [0.]\n",
            " [0.]\n",
            " [0.]] \n",
            "\n",
            "Predicted: [[0.19201618]\n",
            " [0.18546516]\n",
            " [0.169063  ]\n",
            " [0.1369516 ]\n",
            " [0.11786133]]\n",
            "Actual: [[1.]\n",
            " [0.]\n",
            " [0.]\n",
            " [0.]\n",
            " [0.]] \n",
            "\n",
            "Predicted: [[0.11765128]\n",
            " [0.1190227 ]\n",
            " [0.10931382]\n",
            " [0.09496871]\n",
            " [0.08124101]]\n",
            "Actual: [[0.]\n",
            " [0.]\n",
            " [0.]\n",
            " [0.]\n",
            " [0.]] \n",
            "\n",
            "Predicted: [[0.16632876]\n",
            " [0.16215646]\n",
            " [0.15229356]\n",
            " [0.1344969 ]\n",
            " [0.11412004]]\n",
            "Actual: [[0.]\n",
            " [0.]\n",
            " [0.]\n",
            " [0.]\n",
            " [0.]] \n",
            "\n",
            "Predicted: [[0.1546892 ]\n",
            " [0.1598225 ]\n",
            " [0.15335366]\n",
            " [0.13776019]\n",
            " [0.11879134]]\n",
            "Actual: [[0.]\n",
            " [0.]\n",
            " [0.]\n",
            " [0.]\n",
            " [0.]] \n",
            "\n",
            "Predicted: [[0.15467757]\n",
            " [0.16197711]\n",
            " [0.15703791]\n",
            " [0.14119628]\n",
            " [0.12024607]]\n",
            "Actual: [[0.]\n",
            " [0.]\n",
            " [1.]\n",
            " [1.]\n",
            " [0.]] \n",
            "\n"
          ],
          "name": "stdout"
        }
      ]
    },
    {
      "cell_type": "code",
      "metadata": {
        "id": "5PzuJyMILgwk",
        "colab_type": "code",
        "colab": {
          "base_uri": "https://localhost:8080/",
          "height": 188
        },
        "outputId": "95de89a2-6d44-40fb-c2f2-60cbfc5b56a8"
      },
      "source": [
        "## Convert our Keras model to an estimator\n",
        "keras_estimator = tf.keras.estimator.model_to_estimator(keras_model=model_builtin, model_dir='export')"
      ],
      "execution_count": 24,
      "outputs": [
        {
          "output_type": "stream",
          "text": [
            "INFO:tensorflow:Using default config.\n",
            "INFO:tensorflow:Using the Keras model provided.\n",
            "INFO:tensorflow:Using config: {'_model_dir': 'export', '_tf_random_seed': None, '_save_summary_steps': 100, '_save_checkpoints_steps': None, '_save_checkpoints_secs': 600, '_session_config': allow_soft_placement: true\n",
            "graph_options {\n",
            "  rewrite_options {\n",
            "    meta_optimizer_iterations: ONE\n",
            "  }\n",
            "}\n",
            ", '_keep_checkpoint_max': 5, '_keep_checkpoint_every_n_hours': 10000, '_log_step_count_steps': 100, '_train_distribute': None, '_device_fn': None, '_protocol': None, '_eval_distribute': None, '_experimental_distribute': None, '_experimental_max_worker_delay_secs': None, '_session_creation_timeout_secs': 7200, '_service': None, '_cluster_spec': <tensorflow.python.training.server_lib.ClusterSpec object at 0x7ff057671518>, '_task_type': 'worker', '_task_id': 0, '_global_id_in_cluster': 0, '_master': '', '_evaluation_master': '', '_is_chief': True, '_num_ps_replicas': 0, '_num_worker_replicas': 1}\n"
          ],
          "name": "stdout"
        }
      ]
    },
    {
      "cell_type": "code",
      "metadata": {
        "id": "DXMJcSRsL0h6",
        "colab_type": "code",
        "colab": {}
      },
      "source": [
        "# We need this serving input function to export our model in the next cell\n",
        "serving_fn = tf.estimator.export.build_raw_serving_input_receiver_fn(\n",
        "    {'input_1': model_builtin.input},\n",
        "    default_batch_size=None\n",
        ")"
      ],
      "execution_count": 0,
      "outputs": []
    },
    {
      "cell_type": "code",
      "metadata": {
        "id": "wkWpvGO2IHIk",
        "colab_type": "code",
        "colab": {
          "base_uri": "https://localhost:8080/",
          "height": 195
        },
        "outputId": "4e6efc4e-f754-4e16-bf9b-9bafc01f9819"
      },
      "source": [
        "#test serving func.\n",
        "serving_fn = tf.estimator.export.ServingInputReceiver(\n",
        "    {'input_1': model_builtin.input}\n",
        ")"
      ],
      "execution_count": 26,
      "outputs": [
        {
          "output_type": "error",
          "ename": "TypeError",
          "evalue": "ignored",
          "traceback": [
            "\u001b[0;31m---------------------------------------------------------------------------\u001b[0m",
            "\u001b[0;31mTypeError\u001b[0m                                 Traceback (most recent call last)",
            "\u001b[0;32m<ipython-input-26-dd4610bbb611>\u001b[0m in \u001b[0;36m<module>\u001b[0;34m()\u001b[0m\n\u001b[1;32m      1\u001b[0m serving_fn = tf.estimator.export.ServingInputReceiver(\n\u001b[0;32m----> 2\u001b[0;31m     \u001b[0;34m{\u001b[0m\u001b[0;34m'input_1'\u001b[0m\u001b[0;34m:\u001b[0m \u001b[0mmodel_builtin\u001b[0m\u001b[0;34m.\u001b[0m\u001b[0minput\u001b[0m\u001b[0;34m}\u001b[0m\u001b[0;34m\u001b[0m\u001b[0;34m\u001b[0m\u001b[0m\n\u001b[0m\u001b[1;32m      3\u001b[0m )\n",
            "\u001b[0;31mTypeError\u001b[0m: __new__() missing 1 required positional argument: 'receiver_tensors'"
          ]
        }
      ]
    },
    {
      "cell_type": "code",
      "metadata": {
        "id": "Z1spRrlWL_j6",
        "colab_type": "code",
        "colab": {
          "base_uri": "https://localhost:8080/",
          "height": 218
        },
        "outputId": "1c527110-3e6f-4c72-f91a-bbbd31ff2d8c"
      },
      "source": [
        "export_path = keras_estimator.export_saved_model(\n",
        "  'gs://' + BUCKET_NAME + '/explanations',\n",
        "  serving_input_receiver_fn=serving_fn\n",
        ").decode('utf-8')\n",
        "print('export_path: ', export_path)"
      ],
      "execution_count": 30,
      "outputs": [
        {
          "output_type": "stream",
          "text": [
            "INFO:tensorflow:Calling model_fn.\n",
            "INFO:tensorflow:Done calling model_fn.\n",
            "INFO:tensorflow:Signatures INCLUDED in export for Classify: None\n",
            "INFO:tensorflow:Signatures INCLUDED in export for Regress: None\n",
            "INFO:tensorflow:Signatures INCLUDED in export for Predict: ['serving_default']\n",
            "INFO:tensorflow:Signatures INCLUDED in export for Train: None\n",
            "INFO:tensorflow:Signatures INCLUDED in export for Eval: None\n",
            "INFO:tensorflow:Restoring parameters from export/keras/keras_model.ckpt\n",
            "INFO:tensorflow:Assets added to graph.\n",
            "INFO:tensorflow:No assets to write.\n",
            "INFO:tensorflow:SavedModel written to: gs://lsattentionmodel/explanations/temp-b'1581794838'/saved_model.pb\n",
            "export_path:  gs://lsattentionmodel/explanations/1581794838\n"
          ],
          "name": "stdout"
        }
      ]
    },
    {
      "cell_type": "code",
      "metadata": {
        "id": "uMAKKGPNMBLv",
        "colab_type": "code",
        "colab": {
          "base_uri": "https://localhost:8080/",
          "height": 269
        },
        "outputId": "aded0942-9a9e-4472-9e7f-ea7bba63dacb"
      },
      "source": [
        "!saved_model_cli show --dir $export_path --all"
      ],
      "execution_count": 31,
      "outputs": [
        {
          "output_type": "stream",
          "text": [
            "\n",
            "MetaGraphDef with tag-set: 'serve' contains the following SignatureDefs:\n",
            "\n",
            "signature_def['serving_default']:\n",
            "  The given SavedModel SignatureDef contains the following input(s):\n",
            "    inputs['input_1'] tensor_info:\n",
            "        dtype: DT_FLOAT\n",
            "        shape: (-1, 5, 20)\n",
            "        name: input_1:0\n",
            "  The given SavedModel SignatureDef contains the following output(s):\n",
            "    outputs['output1'] tensor_info:\n",
            "        dtype: DT_FLOAT\n",
            "        shape: (-1, 5, 1)\n",
            "        name: output1/Reshape_1:0\n",
            "  Method name is: tensorflow/serving/predict\n"
          ],
          "name": "stdout"
        }
      ]
    },
    {
      "cell_type": "code",
      "metadata": {
        "id": "nk3E2UGkMLvS",
        "colab_type": "code",
        "colab": {
          "base_uri": "https://localhost:8080/",
          "height": 50
        },
        "outputId": "406c91a1-6672-4d1d-f70d-0456f5ee6b9e"
      },
      "source": [
        "# Print the names of our tensors\n",
        "print('Model input tensor: ', model_builtin.input.name)\n",
        "print('Model output tensor: ', model_builtin.output.name)"
      ],
      "execution_count": 32,
      "outputs": [
        {
          "output_type": "stream",
          "text": [
            "Model input tensor:  input_1:0\n",
            "Model output tensor:  output1/Reshape_1:0\n"
          ],
          "name": "stdout"
        }
      ]
    },
    {
      "cell_type": "code",
      "metadata": {
        "id": "P42sdUOqJ_4m",
        "colab_type": "code",
        "colab": {}
      },
      "source": [
        "random_baseline = np.random.rand(5,20)"
      ],
      "execution_count": 0,
      "outputs": []
    },
    {
      "cell_type": "code",
      "metadata": {
        "id": "PUr9MdTTMPj3",
        "colab_type": "code",
        "colab": {}
      },
      "source": [
        "explanation_metadata = {\n",
        "    \"inputs\": {\n",
        "      \"data\": {\n",
        "        \"input_tensor_name\": model_builtin.input.name,\n",
        "        \"input_baselines\": [random_baseline.tolist()]\n",
        "      }\n",
        "    },\n",
        "    \"outputs\": {\n",
        "      \"probability\": {\n",
        "        \"output_tensor_name\": model_builtin.output.name\n",
        "      }\n",
        "    },\n",
        "  \"framework\": \"tensorflow\"\n",
        "  }"
      ],
      "execution_count": 0,
      "outputs": []
    },
    {
      "cell_type": "code",
      "metadata": {
        "id": "boEdVlueMaC4",
        "colab_type": "code",
        "colab": {}
      },
      "source": [
        "# Write the json to a local file\n",
        "with open('explanation_metadata.json', 'w') as output_file:\n",
        "  json.dump(explanation_metadata, output_file)"
      ],
      "execution_count": 0,
      "outputs": []
    },
    {
      "cell_type": "code",
      "metadata": {
        "id": "5cPXk52rMnvM",
        "colab_type": "code",
        "colab": {
          "base_uri": "https://localhost:8080/",
          "height": 67
        },
        "outputId": "5535ed2b-c65a-458d-e61b-34038394dc54"
      },
      "source": [
        "!gsutil cp explanation_metadata.json $export_path"
      ],
      "execution_count": 36,
      "outputs": [
        {
          "output_type": "stream",
          "text": [
            "Copying file://explanation_metadata.json [Content-Type=application/json]...\n",
            "/ [1 files][  2.2 KiB/  2.2 KiB]                                                \n",
            "Operation completed over 1 objects/2.2 KiB.                                      \n"
          ],
          "name": "stdout"
        }
      ]
    },
    {
      "cell_type": "code",
      "metadata": {
        "id": "KmUblwX6Mp7N",
        "colab_type": "code",
        "colab": {}
      },
      "source": [
        "MODEL = 'builtin_t2'"
      ],
      "execution_count": 0,
      "outputs": []
    },
    {
      "cell_type": "code",
      "metadata": {
        "id": "Lfo2pX9xM3zr",
        "colab_type": "code",
        "colab": {
          "base_uri": "https://localhost:8080/",
          "height": 34
        },
        "outputId": "d652c07b-4076-4c8c-b826-02a3a65f36ce"
      },
      "source": [
        "# Create the model if it doesn't exist yet (you only need to run this once)\n",
        "!gcloud ai-platform models create $MODEL --enable-logging --regions=us-central1"
      ],
      "execution_count": 38,
      "outputs": [
        {
          "output_type": "stream",
          "text": [
            "Created ml engine model [projects/lucid-sonar-139519/models/builtin_t2].\n"
          ],
          "name": "stdout"
        }
      ]
    },
    {
      "cell_type": "code",
      "metadata": {
        "id": "o0f5HxoNMs4d",
        "colab_type": "code",
        "colab": {}
      },
      "source": [
        "# Each time you create a version the name should be unique\n",
        "VERSION = 'v1'"
      ],
      "execution_count": 0,
      "outputs": []
    },
    {
      "cell_type": "code",
      "metadata": {
        "id": "vn7hicUOMunB",
        "colab_type": "code",
        "colab": {
          "base_uri": "https://localhost:8080/",
          "height": 70
        },
        "outputId": "60ab483e-d8b0-4b01-da82-4c7e51f094c5"
      },
      "source": [
        "# Create the version with gcloud\n",
        "explain_method = 'integrated-gradients'\n",
        "!gcloud beta ai-platform versions create $VERSION \\\n",
        "--model $MODEL \\\n",
        "--origin $export_path \\\n",
        "--runtime-version 1.15 \\\n",
        "--framework TENSORFLOW \\\n",
        "--python-version 3.7 \\\n",
        "--machine-type n1-standard-4 \\\n",
        "--explanation-method $explain_method \\\n",
        "--num-integral-steps 25"
      ],
      "execution_count": 40,
      "outputs": [
        {
          "output_type": "stream",
          "text": [
            "Explanations reflect patterns in your model, but don't necessarily reveal fundamental relationships about your data population. See https://cloud.google.com/ml-engine/docs/ai-explanations/limitations for more information.\n",
            "\u001b[1;31mERROR:\u001b[0m (gcloud.beta.ai-platform.versions.create) Model explanation failed: Restoring from checkpoint failed. This is most likely due to a mismatch between the current graph and the graph from the checkpoint. Please ensure that you have not altered the graph expected based on the checkpoint. Original error:\n"
          ],
          "name": "stdout"
        }
      ]
    },
    {
      "cell_type": "code",
      "metadata": {
        "id": "HTt_MlPvMyrF",
        "colab_type": "code",
        "colab": {
          "base_uri": "https://localhost:8080/",
          "height": 235
        },
        "outputId": "0bb16528-5fad-4f32-d24e-53b5cca1ace9"
      },
      "source": [
        "# Make sure the model deployed correctly. State should be `READY` in the following log\n",
        "!gcloud ai-platform versions describe $VERSION --model $MODEL"
      ],
      "execution_count": 79,
      "outputs": [
        {
          "output_type": "stream",
          "text": [
            "createTime: '2020-02-15T19:02:03Z'\n",
            "deploymentUri: gs://lsattentionmodel/explanations/1581792943\n",
            "etag: HOCEvjqeGWQ=\n",
            "explanationConfig:\n",
            "  integratedGradientsAttribution:\n",
            "    numIntegralSteps: 25\n",
            "framework: TENSORFLOW\n",
            "isDefault: true\n",
            "machineType: n1-standard-4\n",
            "name: projects/lucid-sonar-139519/models/builtin_t1/versions/v1\n",
            "pythonVersion: '3.7'\n",
            "runtimeVersion: '1.15'\n",
            "state: READY\n"
          ],
          "name": "stdout"
        }
      ]
    },
    {
      "cell_type": "code",
      "metadata": {
        "id": "oBJtvEoyOQ4M",
        "colab_type": "code",
        "colab": {}
      },
      "source": [
        "# Format data for prediction to our model\n",
        "prediction_json = {'input_1': ts_in_seq[:5].tolist()}"
      ],
      "execution_count": 0,
      "outputs": []
    },
    {
      "cell_type": "code",
      "metadata": {
        "id": "PKKsreuZjwdX",
        "colab_type": "code",
        "colab": {}
      },
      "source": [
        "ts_in_seq[:5].reshape(-1,20)"
      ],
      "execution_count": 0,
      "outputs": []
    },
    {
      "cell_type": "code",
      "metadata": {
        "id": "OEDB-ch0bCbc",
        "colab_type": "code",
        "colab": {}
      },
      "source": [
        "with open('builtin_t.txt', 'w') as outfile:\n",
        "  json.dump(prediction_json, outfile)"
      ],
      "execution_count": 0,
      "outputs": []
    },
    {
      "cell_type": "code",
      "metadata": {
        "id": "tDfPgR4deOSL",
        "colab_type": "code",
        "colab": {
          "base_uri": "https://localhost:8080/",
          "height": 50
        },
        "outputId": "d1431f1f-feee-43a5-b6f5-e23a524128e1"
      },
      "source": [
        "!echo $MODEL\n",
        "!echo $VERSION"
      ],
      "execution_count": 82,
      "outputs": [
        {
          "output_type": "stream",
          "text": [
            "builtin_t1\n",
            "v1\n"
          ],
          "name": "stdout"
        }
      ]
    },
    {
      "cell_type": "code",
      "metadata": {
        "id": "clWPHH8tgZbb",
        "colab_type": "code",
        "colab": {
          "base_uri": "https://localhost:8080/",
          "height": 54
        },
        "outputId": "84ec974c-3ed4-49d9-d2aa-7e3fa8952b6c"
      },
      "source": [
        "# Preview the contents of the data file\n",
        "!cat builtin_t.txt"
      ],
      "execution_count": 84,
      "outputs": [
        {
          "output_type": "stream",
          "text": [
            "{\"input_1\": [[[0.722659707069397, -0.4126410186290741, -0.35629597306251526, 0.8474864959716797, -0.8474864959716797, -0.015348331071436405, -0.3414861857891083, -0.13692672550678253, -0.20233982801437378, 0.44033437967300415, -0.27579939365386963, 0.27579939365386963, -0.045349448919296265, -0.15834547579288483, -0.04459831863641739, -0.059825967997312546, -0.06977451592683792, -0.04927809536457062, -0.06829848885536194, 0.0], [0.722659707069397, -0.4126410186290741, -0.35629597306251526, 0.8474864959716797, -0.8474864959716797, -0.015348331071436405, -0.3414861857891083, -0.13692672550678253, -0.20233982801437378, 0.44033437967300415, -0.27579939365386963, 0.27579939365386963, -0.045349448919296265, -0.15834547579288483, -0.04459831863641739, -0.059825967997312546, -0.06977451592683792, -0.04927809536457062, -0.06829848885536194, 0.0], [0.722659707069397, -0.4126410186290741, -0.35629597306251526, 0.8474864959716797, -0.8474864959716797, -0.015348331071436405, -0.3414861857891083, -0.13692672550678253, -0.20233982801437378, 0.44033437967300415, -0.27579939365386963, 0.27579939365386963, -0.045349448919296265, -0.15834547579288483, -0.04459831863641739, -0.059825967997312546, -0.06977451592683792, -0.04927809536457062, -0.06829848885536194, 0.0], [0.722659707069397, -0.4126410186290741, -0.35629597306251526, 0.8474864959716797, -0.8474864959716797, -0.015348331071436405, -0.3414861857891083, -0.13692672550678253, -0.20233982801437378, 0.44033437967300415, -0.27579939365386963, 0.27579939365386963, -0.045349448919296265, -0.15834547579288483, -0.04459831863641739, -0.059825967997312546, -0.06977451592683792, -0.04927809536457062, -0.06829848885536194, 0.0], [0.722659707069397, -0.4126410186290741, -0.35629597306251526, 0.8474864959716797, -0.8474864959716797, -0.015348331071436405, -0.3414861857891083, -0.13692672550678253, -0.20233982801437378, 0.44033437967300415, -0.27579939365386963, 0.27579939365386963, -0.045349448919296265, -0.15834547579288483, -0.04459831863641739, -0.059825967997312546, -0.06977451592683792, -0.04927809536457062, -0.06829848885536194, 0.0]], [[0.9575367569923401, -0.1141689345240593, -0.35629597306251526, -1.1799598932266235, 1.1799598932266235, -0.015348331071436405, -0.3414861857891083, -0.13692672550678253, -0.20233982801437378, 0.44033437967300415, -0.27579939365386963, 0.27579939365386963, -0.045349448919296265, -0.15834547579288483, -0.04459831863641739, -0.059825967997312546, -0.06977451592683792, -0.04927809536457062, -0.06829848885536194, 0.0], [0.9575367569923401, -0.1141689345240593, -0.35629597306251526, -1.1799598932266235, 1.1799598932266235, -0.015348331071436405, -0.3414861857891083, -0.13692672550678253, -0.20233982801437378, 0.44033437967300415, -0.27579939365386963, 0.27579939365386963, -0.045349448919296265, -0.15834547579288483, -0.04459831863641739, -0.059825967997312546, -0.06977451592683792, -0.04927809536457062, -0.06829848885536194, 0.0], [0.9575367569923401, -0.1141689345240593, -0.35629597306251526, -1.1799598932266235, 1.1799598932266235, -0.015348331071436405, -0.3414861857891083, -0.13692672550678253, -0.20233982801437378, 0.44033437967300415, -0.27579939365386963, 0.27579939365386963, -0.045349448919296265, -0.15834547579288483, -0.04459831863641739, -0.059825967997312546, -0.06977451592683792, -0.04927809536457062, -0.06829848885536194, 0.0], [0.0, 0.0, 0.0, 0.0, 0.0, 0.0, 0.0, 0.0, 0.0, 0.0, 0.0, 0.0, 0.0, 0.0, 0.0, 0.0, 0.0, 0.0, 0.0, 0.0], [0.0, 0.0, 0.0, 0.0, 0.0, 0.0, 0.0, 0.0, 0.0, 0.0, 0.0, 0.0, 0.0, 0.0, 0.0, 0.0, 0.0, 0.0, 0.0, 0.0]], [[0.9102351069450378, -0.4126410186290741, -0.35629597306251526, -1.1799598932266235, 1.1799598932266235, -0.015348331071436405, -0.3414861857891083, 7.303175926208496, -0.20233982801437378, -2.2710015773773193, -0.27579939365386963, 0.27579939365386963, -0.045349448919296265, -0.15834547579288483, -0.04459831863641739, -0.059825967997312546, -0.06977451592683792, -0.04927809536457062, -0.06829848885536194, 0.0], [0.9102351069450378, -0.4126410186290741, -0.35629597306251526, -1.1799598932266235, 1.1799598932266235, -0.015348331071436405, -0.3414861857891083, 7.303175926208496, -0.20233982801437378, -2.2710015773773193, -0.27579939365386963, 0.27579939365386963, -0.045349448919296265, -0.15834547579288483, -0.04459831863641739, -0.059825967997312546, -0.06977451592683792, -0.04927809536457062, -0.06829848885536194, 0.0], [0.9102351069450378, -0.4126410186290741, -0.35629597306251526, -1.1799598932266235, 1.1799598932266235, -0.015348331071436405, -0.3414861857891083, 7.303175926208496, -0.20233982801437378, -2.2710015773773193, -0.27579939365386963, 0.27579939365386963, -0.045349448919296265, -0.15834547579288483, -0.04459831863641739, -0.059825967997312546, -0.06977451592683792, -0.04927809536457062, -0.06829848885536194, 0.0], [0.9102351069450378, -0.4126410186290741, -0.35629597306251526, -1.1799598932266235, 1.1799598932266235, -0.015348331071436405, -0.3414861857891083, 7.303175926208496, -0.20233982801437378, -2.2710015773773193, -0.27579939365386963, 0.27579939365386963, -0.045349448919296265, -0.15834547579288483, -0.04459831863641739, -0.059825967997312546, -0.06977451592683792, -0.04927809536457062, -0.06829848885536194, 0.0], [0.9102351069450378, -0.4126410186290741, -0.35629597306251526, -1.1799598932266235, 1.1799598932266235, -0.015348331071436405, -0.3414861857891083, 7.303175926208496, -0.20233982801437378, -2.2710015773773193, -0.27579939365386963, 0.27579939365386963, -0.045349448919296265, -0.15834547579288483, -0.04459831863641739, -0.059825967997312546, -0.06977451592683792, -0.04927809536457062, -0.06829848885536194, 0.0]], [[-0.42399686574935913, -0.7111130952835083, -0.35629597306251526, 0.8474864959716797, -0.8474864959716797, -0.015348331071436405, -0.3414861857891083, -0.13692672550678253, -0.20233982801437378, 0.44033437967300415, -0.27579939365386963, 0.27579939365386963, -0.045349448919296265, -0.15834547579288483, -0.04459831863641739, -0.059825967997312546, -0.06977451592683792, -0.04927809536457062, -0.06829848885536194, 0.0], [-0.42399686574935913, -0.7111130952835083, -0.35629597306251526, 0.8474864959716797, -0.8474864959716797, -0.015348331071436405, -0.3414861857891083, -0.13692672550678253, -0.20233982801437378, 0.44033437967300415, -0.27579939365386963, 0.27579939365386963, -0.045349448919296265, -0.15834547579288483, -0.04459831863641739, -0.059825967997312546, -0.06977451592683792, -0.04927809536457062, -0.06829848885536194, 0.0], [-0.42399686574935913, -0.7111130952835083, 0.031616952270269394, 0.8474864959716797, -0.8474864959716797, -0.015348331071436405, -0.3414861857891083, -0.13692672550678253, -0.20233982801437378, 0.44033437967300415, -0.27579939365386963, 0.27579939365386963, -0.045349448919296265, -0.15834547579288483, -0.04459831863641739, -0.059825967997312546, -0.06977451592683792, -0.04927809536457062, -0.06829848885536194, 0.0], [-0.42399686574935913, -0.7111130952835083, 3.5228331089019775, 0.8474864959716797, -0.8474864959716797, -0.015348331071436405, -0.3414861857891083, -0.13692672550678253, -0.20233982801437378, 0.44033437967300415, -0.27579939365386963, 0.27579939365386963, -0.045349448919296265, -0.15834547579288483, -0.04459831863641739, -0.059825967997312546, -0.06977451592683792, -0.04927809536457062, -0.06829848885536194, 0.0], [-0.42399686574935913, -0.7111130952835083, -0.35629597306251526, 0.8474864959716797, -0.8474864959716797, -0.015348331071436405, -0.3414861857891083, -0.13692672550678253, -0.20233982801437378, 0.44033437967300415, -0.27579939365386963, 0.27579939365386963, -0.045349448919296265, -0.15834547579288483, -0.04459831863641739, -0.059825967997312546, -0.06977451592683792, -0.04927809536457062, -0.06829848885536194, 0.0]], [[-3.5198066234588623, -0.4126410186290741, 1.583268642425537, -1.1799598932266235, 1.1799598932266235, -0.015348331071436405, -0.3414861857891083, 7.303175926208496, -0.20233982801437378, -2.2710015773773193, 3.625823497772217, -3.625823497772217, -0.045349448919296265, -0.15834547579288483, -0.04459831863641739, -0.059825967997312546, -0.06977451592683792, -0.04927809536457062, -0.06829848885536194, 0.0], [-3.5198066234588623, -0.4126410186290741, -0.16233950853347778, -1.1799598932266235, 1.1799598932266235, -0.015348331071436405, -0.3414861857891083, 7.303175926208496, -0.20233982801437378, -2.2710015773773193, -0.27579939365386963, 0.27579939365386963, -0.045349448919296265, -0.15834547579288483, -0.04459831863641739, -0.059825967997312546, -0.06977451592683792, -0.04927809536457062, -0.06829848885536194, 0.0], [-3.5198066234588623, -0.4126410186290741, -0.35629597306251526, -1.1799598932266235, 1.1799598932266235, -0.015348331071436405, -0.3414861857891083, 7.303175926208496, -0.20233982801437378, -2.2710015773773193, -0.27579939365386963, 0.27579939365386963, -0.045349448919296265, -0.15834547579288483, -0.04459831863641739, -0.059825967997312546, -0.06977451592683792, -0.04927809536457062, -0.06829848885536194, 0.0], [0.0, 0.0, 0.0, 0.0, 0.0, 0.0, 0.0, 0.0, 0.0, 0.0, 0.0, 0.0, 0.0, 0.0, 0.0, 0.0, 0.0, 0.0, 0.0, 0.0], [0.0, 0.0, 0.0, 0.0, 0.0, 0.0, 0.0, 0.0, 0.0, 0.0, 0.0, 0.0, 0.0, 0.0, 0.0, 0.0, 0.0, 0.0, 0.0, 0.0]]]}"
          ],
          "name": "stdout"
        }
      ]
    },
    {
      "cell_type": "code",
      "metadata": {
        "id": "WZ1sM60rHOeN",
        "colab_type": "code",
        "colab": {
          "base_uri": "https://localhost:8080/",
          "height": 87
        },
        "outputId": "0d7d999d-a87e-49a3-d4d1-dc6a78ccec5f"
      },
      "source": [
        "!gcloud beta ai-platform explain --model $MODEL --version $VERSION --json-instances='builtin_t.txt'"
      ],
      "execution_count": 83,
      "outputs": [
        {
          "output_type": "stream",
          "text": [
            "{\n",
            "  \"error\": \"Explainability failed with exception: <_InactiveRpcError of RPC that terminated with:\\n\\tstatus = StatusCode.INVALID_ARGUMENT\\n\\tdetails = \\\"transpose expects a vector of size 4. But input(1) is a vector of size 3\\n\\t [[{{node bidirectional/forward_lstm_1/transpose}}]]\\\"\\n\\tdebug_error_string = \\\"{\\\"created\\\":\\\"@1581793778.223223989\\\",\\\"description\\\":\\\"Error received from peer ipv4:10.55.253.203:8500\\\",\\\"file\\\":\\\"src/core/lib/surface/call.cc\\\",\\\"file_line\\\":1056,\\\"grpc_message\\\":\\\"transpose expects a vector of size 4. But input(1) is a vector of size 3\\\\n\\\\t [[{{node bidirectional/forward_lstm_1/transpose}}]]\\\",\\\"grpc_status\\\":3}\\\"\\n>\"\n",
            "}\n"
          ],
          "name": "stdout"
        }
      ]
    },
    {
      "cell_type": "code",
      "metadata": {
        "id": "GSZ6fmuFQAer",
        "colab_type": "code",
        "colab": {
          "base_uri": "https://localhost:8080/",
          "height": 303
        },
        "outputId": "013ddd63-ffd8-477e-9e88-6210fd48f788"
      },
      "source": [
        "resp_obj = !gcloud beta ai-platform explain --model $MODEL --version $VERSION --json-instances='builtin_test.txt'\n",
        "response = json.loads(resp_obj.s)"
      ],
      "execution_count": 45,
      "outputs": [
        {
          "output_type": "error",
          "ename": "JSONDecodeError",
          "evalue": "ignored",
          "traceback": [
            "\u001b[0;31m---------------------------------------------------------------------------\u001b[0m",
            "\u001b[0;31mJSONDecodeError\u001b[0m                           Traceback (most recent call last)",
            "\u001b[0;32m<ipython-input-45-e05f9060efbd>\u001b[0m in \u001b[0;36m<module>\u001b[0;34m()\u001b[0m\n\u001b[1;32m      1\u001b[0m \u001b[0mresp_obj\u001b[0m \u001b[0;34m=\u001b[0m \u001b[0mget_ipython\u001b[0m\u001b[0;34m(\u001b[0m\u001b[0;34m)\u001b[0m\u001b[0;34m.\u001b[0m\u001b[0mgetoutput\u001b[0m\u001b[0;34m(\u001b[0m\u001b[0;34m\"gcloud beta ai-platform explain --model $MODEL --version $VERSION --json-instances='builtin_test.txt'\"\u001b[0m\u001b[0;34m)\u001b[0m\u001b[0;34m\u001b[0m\u001b[0;34m\u001b[0m\u001b[0m\n\u001b[0;32m----> 2\u001b[0;31m \u001b[0mresponse\u001b[0m \u001b[0;34m=\u001b[0m \u001b[0mjson\u001b[0m\u001b[0;34m.\u001b[0m\u001b[0mloads\u001b[0m\u001b[0;34m(\u001b[0m\u001b[0mresp_obj\u001b[0m\u001b[0;34m.\u001b[0m\u001b[0ms\u001b[0m\u001b[0;34m)\u001b[0m\u001b[0;34m\u001b[0m\u001b[0;34m\u001b[0m\u001b[0m\n\u001b[0m",
            "\u001b[0;32m/usr/lib/python3.6/json/__init__.py\u001b[0m in \u001b[0;36mloads\u001b[0;34m(s, encoding, cls, object_hook, parse_float, parse_int, parse_constant, object_pairs_hook, **kw)\u001b[0m\n\u001b[1;32m    352\u001b[0m             \u001b[0mparse_int\u001b[0m \u001b[0;32mis\u001b[0m \u001b[0;32mNone\u001b[0m \u001b[0;32mand\u001b[0m \u001b[0mparse_float\u001b[0m \u001b[0;32mis\u001b[0m \u001b[0;32mNone\u001b[0m \u001b[0;32mand\u001b[0m\u001b[0;34m\u001b[0m\u001b[0;34m\u001b[0m\u001b[0m\n\u001b[1;32m    353\u001b[0m             parse_constant is None and object_pairs_hook is None and not kw):\n\u001b[0;32m--> 354\u001b[0;31m         \u001b[0;32mreturn\u001b[0m \u001b[0m_default_decoder\u001b[0m\u001b[0;34m.\u001b[0m\u001b[0mdecode\u001b[0m\u001b[0;34m(\u001b[0m\u001b[0ms\u001b[0m\u001b[0;34m)\u001b[0m\u001b[0;34m\u001b[0m\u001b[0;34m\u001b[0m\u001b[0m\n\u001b[0m\u001b[1;32m    355\u001b[0m     \u001b[0;32mif\u001b[0m \u001b[0mcls\u001b[0m \u001b[0;32mis\u001b[0m \u001b[0;32mNone\u001b[0m\u001b[0;34m:\u001b[0m\u001b[0;34m\u001b[0m\u001b[0;34m\u001b[0m\u001b[0m\n\u001b[1;32m    356\u001b[0m         \u001b[0mcls\u001b[0m \u001b[0;34m=\u001b[0m \u001b[0mJSONDecoder\u001b[0m\u001b[0;34m\u001b[0m\u001b[0;34m\u001b[0m\u001b[0m\n",
            "\u001b[0;32m/usr/lib/python3.6/json/decoder.py\u001b[0m in \u001b[0;36mdecode\u001b[0;34m(self, s, _w)\u001b[0m\n\u001b[1;32m    337\u001b[0m \u001b[0;34m\u001b[0m\u001b[0m\n\u001b[1;32m    338\u001b[0m         \"\"\"\n\u001b[0;32m--> 339\u001b[0;31m         \u001b[0mobj\u001b[0m\u001b[0;34m,\u001b[0m \u001b[0mend\u001b[0m \u001b[0;34m=\u001b[0m \u001b[0mself\u001b[0m\u001b[0;34m.\u001b[0m\u001b[0mraw_decode\u001b[0m\u001b[0;34m(\u001b[0m\u001b[0ms\u001b[0m\u001b[0;34m,\u001b[0m \u001b[0midx\u001b[0m\u001b[0;34m=\u001b[0m\u001b[0m_w\u001b[0m\u001b[0;34m(\u001b[0m\u001b[0ms\u001b[0m\u001b[0;34m,\u001b[0m \u001b[0;36m0\u001b[0m\u001b[0;34m)\u001b[0m\u001b[0;34m.\u001b[0m\u001b[0mend\u001b[0m\u001b[0;34m(\u001b[0m\u001b[0;34m)\u001b[0m\u001b[0;34m)\u001b[0m\u001b[0;34m\u001b[0m\u001b[0;34m\u001b[0m\u001b[0m\n\u001b[0m\u001b[1;32m    340\u001b[0m         \u001b[0mend\u001b[0m \u001b[0;34m=\u001b[0m \u001b[0m_w\u001b[0m\u001b[0;34m(\u001b[0m\u001b[0ms\u001b[0m\u001b[0;34m,\u001b[0m \u001b[0mend\u001b[0m\u001b[0;34m)\u001b[0m\u001b[0;34m.\u001b[0m\u001b[0mend\u001b[0m\u001b[0;34m(\u001b[0m\u001b[0;34m)\u001b[0m\u001b[0;34m\u001b[0m\u001b[0;34m\u001b[0m\u001b[0m\n\u001b[1;32m    341\u001b[0m         \u001b[0;32mif\u001b[0m \u001b[0mend\u001b[0m \u001b[0;34m!=\u001b[0m \u001b[0mlen\u001b[0m\u001b[0;34m(\u001b[0m\u001b[0ms\u001b[0m\u001b[0;34m)\u001b[0m\u001b[0;34m:\u001b[0m\u001b[0;34m\u001b[0m\u001b[0;34m\u001b[0m\u001b[0m\n",
            "\u001b[0;32m/usr/lib/python3.6/json/decoder.py\u001b[0m in \u001b[0;36mraw_decode\u001b[0;34m(self, s, idx)\u001b[0m\n\u001b[1;32m    355\u001b[0m             \u001b[0mobj\u001b[0m\u001b[0;34m,\u001b[0m \u001b[0mend\u001b[0m \u001b[0;34m=\u001b[0m \u001b[0mself\u001b[0m\u001b[0;34m.\u001b[0m\u001b[0mscan_once\u001b[0m\u001b[0;34m(\u001b[0m\u001b[0ms\u001b[0m\u001b[0;34m,\u001b[0m \u001b[0midx\u001b[0m\u001b[0;34m)\u001b[0m\u001b[0;34m\u001b[0m\u001b[0;34m\u001b[0m\u001b[0m\n\u001b[1;32m    356\u001b[0m         \u001b[0;32mexcept\u001b[0m \u001b[0mStopIteration\u001b[0m \u001b[0;32mas\u001b[0m \u001b[0merr\u001b[0m\u001b[0;34m:\u001b[0m\u001b[0;34m\u001b[0m\u001b[0;34m\u001b[0m\u001b[0m\n\u001b[0;32m--> 357\u001b[0;31m             \u001b[0;32mraise\u001b[0m \u001b[0mJSONDecodeError\u001b[0m\u001b[0;34m(\u001b[0m\u001b[0;34m\"Expecting value\"\u001b[0m\u001b[0;34m,\u001b[0m \u001b[0ms\u001b[0m\u001b[0;34m,\u001b[0m \u001b[0merr\u001b[0m\u001b[0;34m.\u001b[0m\u001b[0mvalue\u001b[0m\u001b[0;34m)\u001b[0m \u001b[0;32mfrom\u001b[0m \u001b[0;32mNone\u001b[0m\u001b[0;34m\u001b[0m\u001b[0;34m\u001b[0m\u001b[0m\n\u001b[0m\u001b[1;32m    358\u001b[0m         \u001b[0;32mreturn\u001b[0m \u001b[0mobj\u001b[0m\u001b[0;34m,\u001b[0m \u001b[0mend\u001b[0m\u001b[0;34m\u001b[0m\u001b[0;34m\u001b[0m\u001b[0m\n",
            "\u001b[0;31mJSONDecodeError\u001b[0m: Expecting value: line 1 column 1 (char 0)"
          ]
        }
      ]
    },
    {
      "cell_type": "code",
      "metadata": {
        "id": "Hj0QuMN3bkWM",
        "colab_type": "code",
        "colab": {
          "base_uri": "https://localhost:8080/",
          "height": 87
        },
        "outputId": "2bd49299-7db0-440c-d595-00a67a6d510b"
      },
      "source": [
        "resp_obj"
      ],
      "execution_count": 77,
      "outputs": [
        {
          "output_type": "execute_result",
          "data": {
            "text/plain": [
              "['{',\n",
              " '  \"error\": \"Explainability failed with exception: <_InactiveRpcError of RPC that terminated with:\\\\n\\\\tstatus = StatusCode.INVALID_ARGUMENT\\\\n\\\\tdetails = \\\\\"Shapes of all inputs must match: values[0].shape = [26] != values[1].shape = [1,52]\\\\n\\\\t [[{{node stack}}]]\\\\\"\\\\n\\\\tdebug_error_string = \\\\\"{\\\\\"created\\\\\":\\\\\"@1581740964.058777580\\\\\",\\\\\"description\\\\\":\\\\\"Error received from peer ipv4:10.55.244.33:8500\\\\\",\\\\\"file\\\\\":\\\\\"src/core/lib/surface/call.cc\\\\\",\\\\\"file_line\\\\\":1056,\\\\\"grpc_message\\\\\":\\\\\"Shapes of all inputs must match: values[0].shape = [26] != values[1].shape = [1,52]\\\\\\\\n\\\\\\\\t [[{{node stack}}]]\\\\\",\\\\\"grpc_status\\\\\":3}\\\\\"\\\\n>\"',\n",
              " '}']"
            ]
          },
          "metadata": {
            "tags": []
          },
          "execution_count": 77
        }
      ]
    },
    {
      "cell_type": "code",
      "metadata": {
        "id": "Nb-iyZvtXgoQ",
        "colab_type": "code",
        "colab": {
          "base_uri": "https://localhost:8080/",
          "height": 330
        },
        "outputId": "fd58774c-f423-480c-ec4c-28615bc84dfd"
      },
      "source": [
        "!gcloud beta ai-platform explain --model $MODEL --version $VERSION\n",
        "predicted = round(explanations['example_score'], 2)\n",
        "print('Predicted duration: ' + str(predicted))\n",
        "print('Actual duration: ' + str(test_labels.iloc[0]))"
      ],
      "execution_count": 42,
      "outputs": [
        {
          "output_type": "stream",
          "text": [
            "\u001b[1;31mERROR:\u001b[0m (gcloud.beta.ai-platform.explain) Exactly one of (--json-instances | --text-instances) must be specified.\n",
            "Usage: gcloud beta ai-platform explain --model=MODEL (--json-instances=JSON_INSTANCES | --text-instances=TEXT_INSTANCES) [optional flags]\n",
            "  optional flags may be  --help | --json-instances | --text-instances |\n",
            "                         --version\n",
            "\n",
            "For detailed information on this command and its flags, run:\n",
            "  gcloud beta ai-platform explain --help\n"
          ],
          "name": "stdout"
        },
        {
          "output_type": "error",
          "ename": "NameError",
          "evalue": "ignored",
          "traceback": [
            "\u001b[0;31m---------------------------------------------------------------------------\u001b[0m",
            "\u001b[0;31mNameError\u001b[0m                                 Traceback (most recent call last)",
            "\u001b[0;32m<ipython-input-42-32ef8bc2f6ef>\u001b[0m in \u001b[0;36m<module>\u001b[0;34m()\u001b[0m\n\u001b[1;32m      1\u001b[0m \u001b[0mget_ipython\u001b[0m\u001b[0;34m(\u001b[0m\u001b[0;34m)\u001b[0m\u001b[0;34m.\u001b[0m\u001b[0msystem\u001b[0m\u001b[0;34m(\u001b[0m\u001b[0;34m'gcloud beta ai-platform explain --model $MODEL --version $VERSION'\u001b[0m\u001b[0;34m)\u001b[0m\u001b[0;34m\u001b[0m\u001b[0;34m\u001b[0m\u001b[0m\n\u001b[0;32m----> 2\u001b[0;31m \u001b[0mpredicted\u001b[0m \u001b[0;34m=\u001b[0m \u001b[0mround\u001b[0m\u001b[0;34m(\u001b[0m\u001b[0mexplanations\u001b[0m\u001b[0;34m[\u001b[0m\u001b[0;34m'example_score'\u001b[0m\u001b[0;34m]\u001b[0m\u001b[0;34m,\u001b[0m \u001b[0;36m2\u001b[0m\u001b[0;34m)\u001b[0m\u001b[0;34m\u001b[0m\u001b[0;34m\u001b[0m\u001b[0m\n\u001b[0m\u001b[1;32m      3\u001b[0m \u001b[0mprint\u001b[0m\u001b[0;34m(\u001b[0m\u001b[0;34m'Predicted duration: '\u001b[0m \u001b[0;34m+\u001b[0m \u001b[0mstr\u001b[0m\u001b[0;34m(\u001b[0m\u001b[0mpredicted\u001b[0m\u001b[0;34m)\u001b[0m\u001b[0;34m)\u001b[0m\u001b[0;34m\u001b[0m\u001b[0;34m\u001b[0m\u001b[0m\n\u001b[1;32m      4\u001b[0m \u001b[0mprint\u001b[0m\u001b[0;34m(\u001b[0m\u001b[0;34m'Actual duration: '\u001b[0m \u001b[0;34m+\u001b[0m \u001b[0mstr\u001b[0m\u001b[0;34m(\u001b[0m\u001b[0mtest_labels\u001b[0m\u001b[0;34m.\u001b[0m\u001b[0miloc\u001b[0m\u001b[0;34m[\u001b[0m\u001b[0;36m0\u001b[0m\u001b[0;34m]\u001b[0m\u001b[0;34m)\u001b[0m\u001b[0;34m)\u001b[0m\u001b[0;34m\u001b[0m\u001b[0;34m\u001b[0m\u001b[0m\n",
            "\u001b[0;31mNameError\u001b[0m: name 'explanations' is not defined"
          ]
        }
      ]
    },
    {
      "cell_type": "code",
      "metadata": {
        "id": "X8K2GIhR_Pb1",
        "colab_type": "code",
        "colab": {}
      },
      "source": [
        ""
      ],
      "execution_count": 0,
      "outputs": []
    }
  ]
}